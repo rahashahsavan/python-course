{
  "cells": [
    {
      "cell_type": "markdown",
      "metadata": {},
      "source": [
        "# Introduction to Input Function in Python\n",
        "\n",
        "Welcome! In this notebook, you'll learn about the **input()** function - a powerful tool that lets your programs communicate with users. You'll learn about:\n",
        "\n",
        "1. **What is input()** - How to get information from users\n",
        "2. **Working with text input** - How to receive and use text data\n",
        "3. **Converting input types** - How to work with numbers from input\n",
        "4. **Storing in lists** - How to collect multiple inputs in a list\n",
        "5. **Practical examples** - Real-world applications of input()\n",
        "\n",
        "The input() function makes your programs interactive and dynamic!\n"
      ]
    },
    {
      "cell_type": "markdown",
      "metadata": {},
      "source": [
        "## Part 1: What is input()?\n",
        "\n",
        "The **input()** function allows your program to receive data from the user. When you call input(), the program:\n",
        "1. Pauses and waits for the user to type something\n",
        "2. The user types and presses Enter\n",
        "3. The program continues with the data the user provided\n",
        "\n",
        "Think of it like asking someone a question and waiting for their answer.\n"
      ]
    },
    {
      "cell_type": "markdown",
      "metadata": {},
      "source": [
        "### Basic Syntax\n",
        "\n",
        "```python\n",
        "variable_name = input(\"Your message here: \")\n",
        "```\n",
        "\n",
        "The message inside input() is called a **prompt** - it tells the user what to enter.\n"
      ]
    },
    {
      "cell_type": "code",
      "execution_count": null,
      "metadata": {},
      "outputs": [],
      "source": [
        "# Example 1: Simple input\n",
        "name = input(\"What is your name? \")\n",
        "print(f\"Hello, {name}! Nice to meet you!\")\n"
      ]
    },
    {
      "cell_type": "code",
      "execution_count": null,
      "metadata": {},
      "outputs": [],
      "source": [
        "# Example 2: Input without a prompt (not recommended)\n",
        "city = input()  # The user won't know what to enter!\n",
        "print(f\"You live in {city}\")\n"
      ]
    },
    {
      "cell_type": "markdown",
      "metadata": {},
      "source": [
        "### Important: input() always returns a string!\n",
        "\n",
        "No matter what the user types, input() always gives you text (a string). Even if they type numbers, you'll get those numbers as text.\n"
      ]
    },
    {
      "cell_type": "code",
      "execution_count": null,
      "metadata": {},
      "outputs": [],
      "source": [
        "# Let's see the type of input\n",
        "user_input = input(\"Enter anything: \")\n",
        "print(f\"You entered: {user_input}\")\n",
        "print(f\"The type is: {type(user_input)}\")\n"
      ]
    },
    {
      "cell_type": "markdown",
      "metadata": {},
      "source": [
        "## Part 2: Working with Text Input\n",
        "\n",
        "When you want to work with text (names, addresses, messages, etc.), input() works perfectly as is!\n"
      ]
    },
    {
      "cell_type": "code",
      "execution_count": null,
      "metadata": {},
      "outputs": [],
      "source": [
        "# Example: Building a simple profile\n",
        "print(\"Let's create your profile!\\n\")\n",
        "\n",
        "name = input(\"Enter your name: \")\n",
        "hobby = input(\"What is your favorite hobby? \")\n",
        "color = input(\"What is your favorite color? \")\n",
        "\n",
        "print(\"\\n--- Your Profile ---\")\n",
        "print(f\"Name: {name}\")\n",
        "print(f\"Hobby: {hobby}\")\n",
        "print(f\"Favorite Color: {color}\")\n"
      ]
    },
    {
      "cell_type": "code",
      "execution_count": null,
      "metadata": {},
      "outputs": [],
      "source": [
        "# Example: String operations on input\n",
        "message = input(\"Write a message: \")\n",
        "\n",
        "print(f\"\\nOriginal: {message}\")\n",
        "print(f\"UPPERCASE: {message.upper()}\")\n",
        "print(f\"lowercase: {message.lower()}\")\n",
        "print(f\"Length: {len(message)} characters\")\n"
      ]
    },
    {
      "cell_type": "markdown",
      "metadata": {},
      "source": [
        "## Part 3: Converting Input to Numbers\n",
        "\n",
        "When you need to do math with user input, you must convert the string to a number first!\n",
        "\n",
        "- Use `int()` to convert to an integer (whole number)\n",
        "- Use `float()` to convert to a decimal number\n"
      ]
    },
    {
      "cell_type": "code",
      "execution_count": null,
      "metadata": {},
      "outputs": [],
      "source": [
        "# Example: Converting to integer\n",
        "age_text = input(\"How old are you? \")\n",
        "age = int(age_text)  # Convert string to integer\n",
        "\n",
        "next_year_age = age + 1\n",
        "print(f\"Next year you will be {next_year_age} years old!\")\n"
      ]
    },
    {
      "cell_type": "code",
      "execution_count": null,
      "metadata": {},
      "outputs": [],
      "source": [
        "# Example: Converting directly (common way)\n",
        "age = int(input(\"How old are you? \"))  # Convert immediately!\n",
        "print(f\"In 5 years, you'll be {age + 5} years old.\")\n"
      ]
    },
    {
      "cell_type": "code",
      "execution_count": null,
      "metadata": {},
      "outputs": [],
      "source": [
        "# Example: Converting to float for decimal numbers\n",
        "height = float(input(\"Enter your height in meters (e.g., 1.75): \"))\n",
        "weight = float(input(\"Enter your weight in kg: \"))\n",
        "\n",
        "# Calculate BMI\n",
        "bmi = weight / (height ** 2)\n",
        "print(f\"\\nYour BMI is: {bmi:.2f}\")\n"
      ]
    },
    {
      "cell_type": "code",
      "execution_count": null,
      "metadata": {},
      "outputs": [],
      "source": [
        "# Example: Simple calculator\n",
        "print(\"Simple Calculator\")\n",
        "print(\"-\" * 20)\n",
        "\n",
        "num1 = float(input(\"Enter first number: \"))\n",
        "num2 = float(input(\"Enter second number: \"))\n",
        "\n",
        "print(f\"\\n{num1} + {num2} = {num1 + num2}\")\n",
        "print(f\"{num1} - {num2} = {num1 - num2}\")\n",
        "print(f\"{num1} * {num2} = {num1 * num2}\")\n",
        "print(f\"{num1} / {num2} = {num1 / num2}\")\n"
      ]
    },
    {
      "cell_type": "markdown",
      "metadata": {},
      "source": [
        "## Part 4: Storing Multiple Inputs in Lists\n",
        "\n",
        "You can collect multiple inputs from users and store them in a list. This is very useful when you need to gather several pieces of information!\n"
      ]
    },
    {
      "cell_type": "code",
      "execution_count": null,
      "metadata": {},
      "outputs": [],
      "source": [
        "# Example 1: Collecting a fixed number of items\n",
        "print(\"Enter 3 of your favorite fruits:\")\n",
        "\n",
        "fruits = []  # Create an empty list\n",
        "\n",
        "fruit1 = input(\"Fruit 1: \")\n",
        "fruits.append(fruit1)\n",
        "\n",
        "fruit2 = input(\"Fruit 2: \")\n",
        "fruits.append(fruit2)\n",
        "\n",
        "fruit3 = input(\"Fruit 3: \")\n",
        "fruits.append(fruit3)\n",
        "\n",
        "print(f\"\\nYour favorite fruits: {fruits}\")\n"
      ]
    },
    {
      "cell_type": "code",
      "execution_count": null,
      "metadata": {},
      "outputs": [],
      "source": [
        "# Example 2: Using a loop to collect inputs\n",
        "print(\"Enter 5 numbers:\")\n",
        "\n",
        "numbers = []  # Empty list\n",
        "\n",
        "for i in range(1, 6):\n",
        "    num = int(input(f\"Number {i}: \"))\n",
        "    numbers.append(num)\n",
        "\n",
        "print(f\"\\nYou entered: {numbers}\")\n",
        "print(f\"Sum: {sum(numbers)}\")\n",
        "print(f\"Average: {sum(numbers) / len(numbers)}\")\n",
        "print(f\"Maximum: {max(numbers)}\")\n",
        "print(f\"Minimum: {min(numbers)}\")\n"
      ]
    },
    {
      "cell_type": "markdown",
      "metadata": {},
      "source": [
        "***higher level*** -----"
      ]
    },
    {
      "cell_type": "code",
      "execution_count": null,
      "metadata": {},
      "outputs": [],
      "source": [
        "# Example 3: Collecting inputs until user wants to stop\n",
        "print(\"Enter student names (type 'done' when finished)\")\n",
        "\n",
        "students = []\n",
        "count = 1\n",
        "\n",
        "while True:\n",
        "    name = input(f\"Student {count} (or 'done'): \")\n",
        "    \n",
        "    if name.lower() == 'done':\n",
        "        break\n",
        "    \n",
        "    students.append(name)\n",
        "    count += 1\n",
        "\n",
        "print(f\"\\nTotal students: {len(students)}\")\n",
        "print(\"Student list:\")\n",
        "for i, student in enumerate(students, 1):\n",
        "    print(f\"{i}. {student}\")\n"
      ]
    },
    {
      "cell_type": "markdown",
      "metadata": {},
      "source": [
        "## Part 5: Practical Examples\n",
        "\n",
        "Now let's see some real-world examples that combine input() with lists, loops, and conditions!\n"
      ]
    },
    {
      "cell_type": "markdown",
      "metadata": {},
      "source": [
        "### Example 1: Shopping List Manager\n"
      ]
    },
    {
      "cell_type": "code",
      "execution_count": null,
      "metadata": {},
      "outputs": [],
      "source": [
        "print(\"=== Shopping List Manager ===\")\n",
        "print(\"Enter items for your shopping list\\n\")\n",
        "\n",
        "shopping_list = []\n",
        "\n",
        "# Get number of items\n",
        "num_items = int(input(\"How many items do you need to buy? \"))\n",
        "\n",
        "# Collect items\n",
        "for i in range(1, num_items + 1):\n",
        "    item = input(f\"Item {i}: \")\n",
        "    shopping_list.append(item)\n",
        "\n",
        "# Display the list\n",
        "print(\"\\n\" + \"=\"*30)\n",
        "print(\"YOUR SHOPPING LIST\")\n",
        "print(\"=\"*30)\n",
        "\n",
        "for index, item in enumerate(shopping_list, 1):\n",
        "    print(f\"[{index}] {item}\")\n",
        "\n",
        "print(\"\\n\" + \"=\"*30)\n",
        "print(f\"Total items: {len(shopping_list)}\")\n"
      ]
    },
    {
      "cell_type": "markdown",
      "metadata": {},
      "source": [
        "### Example 2: Grade Calculator\n"
      ]
    },
    {
      "cell_type": "code",
      "execution_count": null,
      "metadata": {},
      "outputs": [],
      "source": [
        "print(\"=== Grade Calculator ===\")\n",
        "print(\"Calculate your average grade\\n\")\n",
        "\n",
        "grades = []\n",
        "subject_names = []\n",
        "\n",
        "num_subjects = int(input(\"How many subjects do you have? \"))\n",
        "\n",
        "# Collect subjects and grades\n",
        "for i in range(num_subjects):\n",
        "    print(f\"\\nSubject {i + 1}:\")\n",
        "    subject = input(\"  Subject name: \")\n",
        "    grade = float(input(\"  Grade (0-100): \"))\n",
        "    \n",
        "    subject_names.append(subject)\n",
        "    grades.append(grade)\n",
        "\n",
        "# Calculate average\n",
        "average = sum(grades) / len(grades)\n",
        "\n",
        "# Display results\n",
        "print(\"\\n\" + \"=\"*40)\n",
        "print(\"GRADE REPORT\")\n",
        "print(\"=\"*40)\n",
        "\n",
        "for subject, grade in zip(subject_names, grades):\n",
        "    print(f\"{subject:.<20} {grade:.1f}\")\n",
        "\n",
        "print(\"-\"*40)\n",
        "print(f\"Average Grade: {average:.2f}\")\n",
        "\n",
        "# Determine letter grade\n",
        "if average >= 90:\n",
        "    letter = \"A (Excellent!)\"\n",
        "elif average >= 80:\n",
        "    letter = \"B (Great!)\"\n",
        "elif average >= 70:\n",
        "    letter = \"C (Good)\"\n",
        "elif average >= 60:\n",
        "    letter = \"D (Pass)\"\n",
        "else:\n",
        "    letter = \"F (Needs Improvement)\"\n",
        "\n",
        "print(f\"Letter Grade: {letter}\")\n",
        "print(\"=\"*40)\n"
      ]
    },
    {
      "cell_type": "markdown",
      "metadata": {},
      "source": [
        "### Example 3: Contact Book\n"
      ]
    },
    {
      "cell_type": "code",
      "execution_count": null,
      "metadata": {},
      "outputs": [],
      "source": [
        "print(\"=== Contact Book ===\")\n",
        "print(\"Save your friends' contact information\\n\")\n",
        "\n",
        "names = []\n",
        "phones = []\n",
        "emails = []\n",
        "\n",
        "num_contacts = int(input(\"How many contacts do you want to add? \"))\n",
        "\n",
        "# Collect contact information\n",
        "for i in range(num_contacts):\n",
        "    print(f\"\\n--- Contact {i + 1} ---\")\n",
        "    name = input(\"Name: \")\n",
        "    phone = input(\"Phone: \")\n",
        "    email = input(\"Email: \")\n",
        "    \n",
        "    names.append(name)\n",
        "    phones.append(phone)\n",
        "    emails.append(email)\n",
        "\n",
        "# Display all contacts\n",
        "print(\"\\n\" + \"=\"*50)\n",
        "print(\"YOUR CONTACT BOOK\")\n",
        "print(\"=\"*50)\n",
        "\n",
        "for i in range(len(names)):\n",
        "    print(f\"\\n[{i + 1}] {names[i]}\")\n",
        "    print(f\"    Phone: {phones[i]}\")\n",
        "    print(f\"    Email: {emails[i]}\")\n",
        "\n",
        "print(\"\\n\" + \"=\"*50)\n",
        "print(f\"Total contacts: {len(names)}\")\n"
      ]
    },
    {
      "cell_type": "markdown",
      "metadata": {},
      "source": [
        "### Example 4: Quiz Game\n"
      ]
    },
    {
      "cell_type": "code",
      "execution_count": null,
      "metadata": {},
      "outputs": [],
      "source": [
        "print(\"=== Python Quiz Game ===\")\n",
        "print(\"Answer the following questions!\\n\")\n",
        "\n",
        "questions = [\n",
        "    \"What is the capital of France?\",\n",
        "    \"What is 5 + 7?\",\n",
        "    \"What color is the sky?\"\n",
        "]\n",
        "\n",
        "correct_answers = [\"paris\", \"12\", \"blue\"]\n",
        "user_answers = []\n",
        "scores = []\n",
        "\n",
        "# Ask each question\n",
        "for i, question in enumerate(questions):\n",
        "    print(f\"Question {i + 1}: {question}\")\n",
        "    answer = input(\"Your answer: \")\n",
        "    user_answers.append(answer)\n",
        "    \n",
        "    # Check if correct\n",
        "    if answer.lower() == correct_answers[i]:\n",
        "        print(\"✓ Correct!\\n\")\n",
        "        scores.append(1)\n",
        "    else:\n",
        "        print(f\"✗ Wrong! Correct answer: {correct_answers[i]}\\n\")\n",
        "        scores.append(0)\n",
        "\n",
        "# Calculate final score\n",
        "total_score = sum(scores)\n",
        "percentage = (total_score / len(questions)) * 100\n",
        "\n",
        "# Display results\n",
        "print(\"=\"*40)\n",
        "print(\"QUIZ RESULTS\")\n",
        "print(\"=\"*40)\n",
        "print(f\"Correct answers: {total_score} out of {len(questions)}\")\n",
        "print(f\"Score: {percentage:.1f}%\")\n",
        "\n",
        "if percentage == 100:\n",
        "    print(\"🏆 Perfect score! Amazing!\")\n",
        "elif percentage >= 70:\n",
        "    print(\"👏 Great job!\")\n",
        "elif percentage >= 50:\n",
        "    print(\"👍 Good effort!\")\n",
        "else:\n",
        "    print(\"💪 Keep practicing!\")\n"
      ]
    },
    {
      "cell_type": "markdown",
      "metadata": {},
      "source": [
        "### Example 5: Number Analysis Tool\n"
      ]
    },
    {
      "cell_type": "code",
      "execution_count": null,
      "metadata": {},
      "outputs": [],
      "source": [
        "print(\"=== Number Analysis Tool ===\")\n",
        "print(\"Enter numbers and get statistics!\\n\")\n",
        "\n",
        "numbers = []\n",
        "\n",
        "# Collect numbers\n",
        "count = int(input(\"How many numbers do you want to analyze? \"))\n",
        "\n",
        "for i in range(count):\n",
        "    num = float(input(f\"Enter number {i + 1}: \"))\n",
        "    numbers.append(num)\n",
        "\n",
        "# Perform analysis\n",
        "total = sum(numbers)\n",
        "average = total / len(numbers)\n",
        "maximum = max(numbers)\n",
        "minimum = min(numbers)\n",
        "range_value = maximum - minimum\n",
        "\n",
        "# Count positive, negative, and zero\n",
        "positive_nums = [n for n in numbers if n > 0]\n",
        "negative_nums = [n for n in numbers if n < 0]\n",
        "zeros = [n for n in numbers if n == 0]\n",
        "\n",
        "# Display results\n",
        "print(\"\\n\" + \"=\"*50)\n",
        "print(\"STATISTICAL ANALYSIS\")\n",
        "print(\"=\"*50)\n",
        "print(f\"\\nYour numbers: {numbers}\")\n",
        "print(\"\\nBasic Statistics:\")\n",
        "print(f\"  Count: {len(numbers)}\")\n",
        "print(f\"  Sum: {total}\")\n",
        "print(f\"  Average: {average:.2f}\")\n",
        "print(f\"  Maximum: {maximum}\")\n",
        "print(f\"  Minimum: {minimum}\")\n",
        "print(f\"  Range: {range_value}\")\n",
        "\n",
        "print(\"\\nNumber Categories:\")\n",
        "print(f\"  Positive numbers: {len(positive_nums)}\")\n",
        "print(f\"  Negative numbers: {len(negative_nums)}\")\n",
        "print(f\"  Zeros: {len(zeros)}\")\n",
        "\n",
        "print(\"\\nSorted (ascending): {}\".format(sorted(numbers)))\n",
        "print(\"Sorted (descending): {}\".format(sorted(numbers, reverse=True)))\n",
        "print(\"=\"*50)\n"
      ]
    },
    {
      "cell_type": "markdown",
      "metadata": {},
      "source": [
        "### Example 6: To-Do List with Priorities\n"
      ]
    },
    {
      "cell_type": "code",
      "execution_count": null,
      "metadata": {},
      "outputs": [],
      "source": [
        "print(\"=== Priority To-Do List ===\")\n",
        "print(\"Manage your tasks with priority levels!\\n\")\n",
        "\n",
        "tasks = []\n",
        "priorities = []\n",
        "\n",
        "num_tasks = int(input(\"How many tasks do you have? \"))\n",
        "\n",
        "# Collect tasks and priorities\n",
        "for i in range(num_tasks):\n",
        "    print(f\"\\n--- Task {i + 1} ---\")\n",
        "    task = input(\"Task description: \")\n",
        "    priority = input(\"Priority (High/Medium/Low): \")\n",
        "    \n",
        "    tasks.append(task)\n",
        "    priorities.append(priority.capitalize())\n",
        "\n",
        "# Separate by priority\n",
        "high_priority = []\n",
        "medium_priority = []\n",
        "low_priority = []\n",
        "\n",
        "for task, priority in zip(tasks, priorities):\n",
        "    if priority == \"High\":\n",
        "        high_priority.append(task)\n",
        "    elif priority == \"Medium\":\n",
        "        medium_priority.append(task)\n",
        "    else:\n",
        "        low_priority.append(task)\n",
        "\n",
        "# Display organized list\n",
        "print(\"\\n\" + \"=\"*50)\n",
        "print(\"YOUR TO-DO LIST (Organized by Priority)\")\n",
        "print(\"=\"*50)\n",
        "\n",
        "if high_priority:\n",
        "    print(\"\\n🔴 HIGH PRIORITY:\")\n",
        "    for i, task in enumerate(high_priority, 1):\n",
        "        print(f\"  {i}. {task}\")\n",
        "\n",
        "if medium_priority:\n",
        "    print(\"\\n🟡 MEDIUM PRIORITY:\")\n",
        "    for i, task in enumerate(medium_priority, 1):\n",
        "        print(f\"  {i}. {task}\")\n",
        "\n",
        "if low_priority:\n",
        "    print(\"\\n🟢 LOW PRIORITY:\")\n",
        "    for i, task in enumerate(low_priority, 1):\n",
        "        print(f\"  {i}. {task}\")\n",
        "\n",
        "print(\"\\n\" + \"=\"*50)\n",
        "print(f\"Total tasks: {len(tasks)}\")\n",
        "print(f\"High priority: {len(high_priority)} | Medium: {len(medium_priority)} | Low: {len(low_priority)}\")\n"
      ]
    },
    {
      "cell_type": "markdown",
      "metadata": {},
      "source": [
        "## Congratulations! 🎉\n",
        "\n",
        "You've learned all about the **input()** function in Python! Here's what you now know:\n",
        "\n",
        "### Basic Concepts:\n",
        "- How to use `input()` to get data from users\n",
        "- How to add prompts to guide users\n",
        "- That input() always returns strings\n",
        "\n",
        "### Working with Input:\n",
        "- How to work with text input directly\n",
        "- How to convert input to numbers using `int()` and `float()`\n",
        "- How to handle different types of data\n",
        "\n",
        "### Storing Input in Lists:\n",
        "- How to collect multiple inputs in a list\n",
        "- How to use loops to gather data efficiently\n",
        "- How to build collections of related information\n",
        "\n",
        "### Practical Applications:\n",
        "- Shopping lists and contact books\n",
        "- Grade calculators and quiz games\n",
        "- Data analysis tools\n",
        "- Task management systems\n",
        "\n",
        "### Important Tips to Remember:\n",
        "1. Always provide clear prompts so users know what to enter\n",
        "2. Convert input to the right type (int/float) when doing math\n",
        "3. Use lists to store multiple related inputs\n",
        "4. Combine input() with loops and conditions for powerful programs\n",
        "5. Display results in a clear and organized way\n",
        "\n",
        "The input() function is essential for creating interactive programs. With this knowledge, you can build programs that communicate with users and respond to their needs!\n",
        "\n",
        "**Next Steps:**\n",
        "- Try modifying the examples to create your own programs\n",
        "- Combine input() with if statements and loops\n",
        "- Think about what kind of interactive program you want to build\n",
        "- Practice handling different types of user input\n",
        "\n",
        "Keep experimenting and have fun coding! 🚀\n"
      ]
    }
  ],
  "metadata": {
    "language_info": {
      "name": "python"
    }
  },
  "nbformat": 4,
  "nbformat_minor": 2
}
