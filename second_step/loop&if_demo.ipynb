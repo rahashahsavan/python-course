{
 "cells": [
  {
   "cell_type": "markdown",
   "id": "6107caed",
   "metadata": {},
   "source": [
    "# Introduction to If Statements and Loops\n",
    "\n",
    "Welcome! In this notebook, you'll learn about **control structures** - special tools that help your programs make decisions and repeat actions. You'll learn about:\n",
    "\n",
    "1. **Boolean expressions** - How to check if something is True or False\n",
    "2. **If statements** - How to make decisions in your code\n",
    "3. **While loops** - How to repeat actions while a condition is true\n",
    "4. **For loops** - How to repeat actions for each item in a collection\n",
    "\n",
    "These are powerful tools that will make your programs much more interesting and useful!\n"
   ]
  },
  {
   "cell_type": "markdown",
   "id": "04601016",
   "metadata": {},
   "source": [
    "## Part 1: Boolean Expressions - True or False?\n",
    "\n",
    "Before we learn about if statements and loops, we need to understand how to check if something is **True** or **False**. These are called **boolean expressions**.\n",
    "\n",
    "Think of it like asking questions: \"Is it raining?\" (True or False), \"Is 5 greater than 3?\" (True), \"Is 2 equal to 7?\" (False).\n"
   ]
  },
  {
   "cell_type": "markdown",
   "id": "77266c05",
   "metadata": {},
   "source": [
    "### Comparison Operators\n",
    "\n",
    "We use special symbols to compare values:\n",
    "\n",
    "- `==` means \"is equal to\"\n",
    "- `!=` means \"is not equal to\" \n",
    "- `>` means \"is greater than\"\n",
    "- `<` means \"is less than\"\n",
    "- `>=` means \"is greater than or equal to\"\n",
    "- `<=` means \"is less than or equal to\"\n"
   ]
  },
  {
   "cell_type": "code",
   "execution_count": null,
   "id": "4884e277",
   "metadata": {},
   "outputs": [],
   "source": [
    "# Let's try some comparisons!\n",
    "print(\"Is 5 equal to 5?\", 5 == 5)\n",
    "print(\"Is 3 greater than 7?\", 3 > 7)\n",
    "print(\"Is 10 less than or equal to 10?\", 10 <= 10)\n",
    "print(\"Is 'hello' equal to 'world'?\", \"hello\" == \"world\")\n",
    "print(\"Is 4 not equal to 4?\", 4 != 4)\n"
   ]
  },
  {
   "cell_type": "markdown",
   "id": "cb67a9dc",
   "metadata": {},
   "source": [
    "### Logical Operators\n",
    "\n",
    "We can also combine conditions using:\n",
    "- `and` - both conditions must be True\n",
    "- `or` - at least one condition must be True  \n",
    "- `not` - reverses True to False and False to True\n"
   ]
  },
  {
   "cell_type": "code",
   "execution_count": null,
   "id": "6d88d331",
   "metadata": {},
   "outputs": [],
   "source": [
    "# Let's try logical operators!\n",
    "age = 20\n",
    "has_license = True\n",
    "\n",
    "print(\"Is age 18 or older AND has license?\", age >= 18 and has_license)\n",
    "print(\"Is age less than 16 OR doesn't have license?\", age < 16 or not has_license)\n",
    "print(\"Is it NOT true that age is 25?\", not (age == 25))\n"
   ]
  },
  {
   "cell_type": "markdown",
   "id": "dbc5c304",
   "metadata": {},
   "source": [
    "## Part 2: If Statements - Making Decisions\n",
    "\n",
    "An **if statement** lets your program make decisions. It's like saying \"If this is true, then do that.\"\n",
    "\n",
    "Think of it like: \"If it's raining, then take an umbrella.\"\n"
   ]
  },
  {
   "cell_type": "markdown",
   "id": "850d4526",
   "metadata": {},
   "source": [
    "### Basic If Statement\n",
    "\n",
    "The structure is:\n",
    "```python\n",
    "if condition:\n",
    "    # code to run if condition is True\n",
    "```\n"
   ]
  },
  {
   "cell_type": "code",
   "execution_count": null,
   "id": "ff3a5028",
   "metadata": {},
   "outputs": [],
   "source": [
    "# Example: Check if someone can vote\n",
    "age = 17\n",
    "\n",
    "if age >= 18:\n",
    "    print(\"You can vote!\")\n",
    "    print(\"Don't forget to register!\")\n",
    "\n",
    "print(\"This always runs\")\n"
   ]
  },
  {
   "cell_type": "markdown",
   "id": "7b08b7c2",
   "metadata": {},
   "source": [
    "### If-Else Statement\n",
    "\n",
    "Sometimes you want to do one thing if the condition is True, and something else if it's False:\n",
    "\n",
    "```python\n",
    "if condition:\n",
    "    # code if True\n",
    "else:\n",
    "    # code if False\n",
    "```\n"
   ]
  },
  {
   "cell_type": "code",
   "execution_count": null,
   "id": "a42cafbe",
   "metadata": {},
   "outputs": [],
   "source": [
    "# Example: Check if a number is even or odd\n",
    "number = 7\n",
    "\n",
    "if number % 2 == 0:\n",
    "    print(f\"{number} is even\")\n",
    "else:\n",
    "    print(f\"{number} is odd\")\n"
   ]
  },
  {
   "cell_type": "markdown",
   "id": "fe2ced39",
   "metadata": {},
   "source": [
    "### If-Elif-Else Statement\n",
    "\n",
    "For multiple conditions, use `elif` (else if):\n",
    "\n",
    "```python\n",
    "if condition1:\n",
    "    # code if condition1 is True\n",
    "elif condition2:\n",
    "    # code if condition2 is True\n",
    "else:\n",
    "    # code if all conditions are False\n",
    "```\n"
   ]
  },
  {
   "cell_type": "code",
   "execution_count": null,
   "id": "39e89f2f",
   "metadata": {},
   "outputs": [],
   "source": [
    "# Example: Grade classification\n",
    "score = 85\n",
    "\n",
    "if score >= 90:\n",
    "    print(\"Grade: A\")\n",
    "elif score >= 80:\n",
    "    print(\"Grade: B\")\n",
    "elif score >= 70:\n",
    "    print(\"Grade: C\")\n",
    "elif score >= 60:\n",
    "    print(\"Grade: D\")\n",
    "else:\n",
    "    print(\"Grade: F\")\n"
   ]
  },
  {
   "cell_type": "markdown",
   "id": "b961995c",
   "metadata": {},
   "source": [
    "## Part 3: While Loops - Repeat While True\n",
    "\n",
    "A **while loop** repeats code as long as a condition is True. It's like saying \"Keep doing this while this is true.\"\n",
    "\n",
    "Think of it like: \"While I'm hungry, keep eating.\"\n"
   ]
  },
  {
   "cell_type": "markdown",
   "id": "5150ee24",
   "metadata": {},
   "source": [
    "### Basic While Loop\n",
    "\n",
    "The structure is:\n",
    "```python\n",
    "while condition:\n",
    "    # code to repeat while condition is True\n",
    "```\n"
   ]
  },
  {
   "cell_type": "code",
   "execution_count": null,
   "id": "699441b8",
   "metadata": {},
   "outputs": [],
   "source": [
    "# Example: Count from 1 to 5\n",
    "count = 1\n",
    "\n",
    "while count <= 5:\n",
    "    print(f\"Count: {count}\")\n",
    "    count = count + 1  # This is very important!\n",
    "\n",
    "print(\"Loop finished!\")\n"
   ]
  },
  {
   "cell_type": "markdown",
   "id": "b322ccbc",
   "metadata": {},
   "source": [
    "### Important: Avoid Infinite Loops!\n",
    "\n",
    "**Warning:** Always make sure your while loop will eventually stop! If you forget to change the condition, the loop will run forever.\n",
    "\n",
    "```python\n",
    "# BAD - This will run forever!\n",
    "count = 1\n",
    "while count <= 5:\n",
    "    print(count)\n",
    "    # Forgot to increase count!\n",
    "\n",
    "# GOOD - This will stop\n",
    "count = 1\n",
    "while count <= 5:\n",
    "    print(count)\n",
    "    count = count + 1  # This makes it stop eventually\n",
    "```\n"
   ]
  },
  {
   "cell_type": "code",
   "execution_count": null,
   "id": "cfbdafe5",
   "metadata": {},
   "outputs": [],
   "source": [
    "# Example: Keep asking until we get a valid answer\n",
    "answer = \"\"\n",
    "\n",
    "while answer != \"yes\" and answer != \"no\":\n",
    "    answer = input(\"Do you like Python? (yes/no): \")\n",
    "    print(f\"You said: {answer}\")\n",
    "\n",
    "print(\"Thank you for your answer!\")\n"
   ]
  },
  {
   "cell_type": "markdown",
   "id": "607075fd",
   "metadata": {},
   "source": [
    "## Part 4: For Loops - Repeat for Each Item\n",
    "\n",
    "A **for loop** repeats code for each item in a collection (like a list). It's like saying \"For each item in this list, do this.\"\n",
    "\n",
    "Think of it like: \"For each student in the class, give them a grade.\"\n"
   ]
  },
  {
   "cell_type": "markdown",
   "id": "00382dfd",
   "metadata": {},
   "source": [
    "### Basic For Loop\n",
    "\n",
    "The structure is:\n",
    "```python\n",
    "for item in collection:\n",
    "    # code to run for each item\n",
    "```\n"
   ]
  },
  {
   "cell_type": "code",
   "execution_count": null,
   "id": "03020979",
   "metadata": {},
   "outputs": [],
   "source": [
    "# Example: Print each fruit in a list\n",
    "fruits = [\"apple\", \"banana\", \"cherry\"]\n",
    "\n",
    "for fruit in fruits:\n",
    "    print(f\"I like {fruit}!\")\n",
    "\n",
    "print(\"All fruits printed!\")\n"
   ]
  },
  {
   "cell_type": "code",
   "execution_count": null,
   "id": "876dd4c7",
   "metadata": {},
   "outputs": [],
   "source": [
    "# Example: Count numbers in a list\n",
    "numbers = [1, 2, 3, 4, 5]\n",
    "total = 0\n",
    "\n",
    "for number in numbers:\n",
    "    total = total + number\n",
    "    print(f\"Adding {number}, total is now {total}\")\n",
    "\n",
    "print(f\"Final total: {total}\")\n"
   ]
  },
  {
   "cell_type": "markdown",
   "id": "98a6e713",
   "metadata": {},
   "source": [
    "### For Loop with Range\n",
    "\n",
    "You can also use `range()` to create a sequence of numbers:\n",
    "\n",
    "```python\n",
    "for i in range(5):  # 0, 1, 2, 3, 4\n",
    "    print(i)\n",
    "```\n"
   ]
  },
  {
   "cell_type": "code",
   "execution_count": null,
   "id": "7f0b7488",
   "metadata": {},
   "outputs": [],
   "source": [
    "# Example: Print numbers 1 to 5 using range\n",
    "for i in range(1, 6):  # range(1, 6) gives 1, 2, 3, 4, 5\n",
    "    print(f\"Number: {i}\")\n",
    "\n",
    "print(\"Done counting!\")\n"
   ]
  },
  {
   "cell_type": "markdown",
   "id": "6f7a486f",
   "metadata": {},
   "source": [
    "## Part 5: Combining Everything - Practice Exercises\n",
    "\n",
    "Now let's practice using if statements and loops together! These exercises will help you understand how to combine these powerful tools.\n"
   ]
  },
  {
   "cell_type": "markdown",
   "id": "671071ad",
   "metadata": {},
   "source": [
    "**Exercise 1:** Create a program that finds all even numbers from 1 to 20 and prints them.\n",
    "\n",
    "*Hint: Use a for loop with range() and an if statement to check if each number is even.*\n"
   ]
  },
  {
   "cell_type": "code",
   "execution_count": null,
   "id": "5759848b",
   "metadata": {},
   "outputs": [],
   "source": [
    "# Write your answer here\n",
    "print(\"Even numbers from 1 to 20:\")\n",
    "\n",
    "for number in range(1, 21):\n",
    "    if number % 2 == 0:\n",
    "        print(number)\n"
   ]
  },
  {
   "cell_type": "markdown",
   "id": "249409ec",
   "metadata": {},
   "source": [
    "**Exercise 2:** Create a program that asks the user to guess a number between 1 and 10. Keep asking until they guess correctly.\n",
    "\n",
    "*Hint: Use a while loop with a condition that checks if the guess is wrong.*\n"
   ]
  },
  {
   "cell_type": "code",
   "execution_count": null,
   "id": "67c8ee8c",
   "metadata": {},
   "outputs": [],
   "source": [
    "# Write your answer here\n",
    "secret_number = 7\n",
    "guess = 0\n",
    "\n",
    "print(\"I'm thinking of a number between 1 and 10...\")\n",
    "\n",
    "while guess != secret_number:\n",
    "    guess = int(input(\"Guess the number: \"))\n",
    "    \n",
    "    if guess == secret_number:\n",
    "        print(\"Congratulations! You guessed it!\")\n",
    "    else:\n",
    "        print(\"Wrong! Try again.\")\n"
   ]
  },
  {
   "cell_type": "markdown",
   "id": "692f76b0",
   "metadata": {},
   "source": [
    "**Exercise 3:** Create a program that analyzes a list of student grades and counts how many students got A, B, C, D, and F grades.\n",
    "\n",
    "*Hint: Use a for loop to go through each grade, and if-elif-else statements to categorize each grade.*\n"
   ]
  },
  {
   "cell_type": "code",
   "execution_count": null,
   "id": "5efedf40",
   "metadata": {},
   "outputs": [],
   "source": [
    "# Write your answer here\n",
    "grades = [85, 92, 78, 96, 88, 73, 91, 67, 84, 79]\n",
    "\n",
    "# Initialize counters\n",
    "a_count = 0\n",
    "b_count = 0\n",
    "c_count = 0\n",
    "d_count = 0\n",
    "f_count = 0\n",
    "\n",
    "print(\"Analyzing grades...\")\n",
    "\n",
    "for grade in grades:\n",
    "    if grade >= 90:\n",
    "        a_count += 1\n",
    "        print(f\"Grade {grade}: A\")\n",
    "    elif grade >= 80:\n",
    "        b_count += 1\n",
    "        print(f\"Grade {grade}: B\")\n",
    "    elif grade >= 70:\n",
    "        c_count += 1\n",
    "        print(f\"Grade {grade}: C\")\n",
    "    elif grade >= 60:\n",
    "        d_count += 1\n",
    "        print(f\"Grade {grade}: D\")\n",
    "    else:\n",
    "        f_count += 1\n",
    "        print(f\"Grade {grade}: F\")\n",
    "\n",
    "print(\"\\nGrade Summary:\")\n",
    "print(f\"A grades: {a_count}\")\n",
    "print(f\"B grades: {b_count}\")\n",
    "print(f\"C grades: {c_count}\")\n",
    "print(f\"D grades: {d_count}\")\n",
    "print(f\"F grades: {f_count}\")\n"
   ]
  },
  {
   "cell_type": "markdown",
   "id": "b4200fa8",
   "metadata": {},
   "source": [
    "## Congratulations! 🎉\n",
    "\n",
    "You've learned the basics of control structures in Python! Here's what you now know:\n",
    "\n",
    "### Boolean Expressions:\n",
    "- How to compare values using `==`, `!=`, `>`, `<`, `>=`, `<=`\n",
    "- How to combine conditions using `and`, `or`, `not`\n",
    "\n",
    "### If Statements:\n",
    "- How to make decisions with `if`\n",
    "- How to handle alternatives with `else`\n",
    "- How to check multiple conditions with `elif`\n",
    "\n",
    "### While Loops:\n",
    "- How to repeat code while a condition is True\n",
    "- How to avoid infinite loops\n",
    "- How to use while loops for user input validation\n",
    "\n",
    "### For Loops:\n",
    "- How to repeat code for each item in a collection\n",
    "- How to use `range()` to create number sequences\n",
    "- How to process lists and other data structures\n",
    "\n",
    "### Combining Everything:\n",
    "- How to use if statements inside loops\n",
    "- How to use loops to process data with conditions\n",
    "- How to build more complex programs\n",
    "\n",
    "These tools are the foundation of programming! With if statements and loops, you can create programs that make decisions and repeat actions - which is what most programs do.\n",
    "\n",
    "Keep practicing and experimenting with these concepts!\n"
   ]
  }
 ],
 "metadata": {
  "language_info": {
   "name": "python"
  }
 },
 "nbformat": 4,
 "nbformat_minor": 5
}
