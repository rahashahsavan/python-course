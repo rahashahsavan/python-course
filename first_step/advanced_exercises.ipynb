{
 "cells": [
  {
   "cell_type": "markdown",
   "id": "804ccc2d",
   "metadata": {},
   "source": [
    "# Advanced Python Exercises\n",
    "\n",
    "Welcome to advanced exercises! Here you will practice using methods and functions with different data types. You'll learn how to:\n",
    "- Work with numbers (integers and floats)\n",
    "- Use string methods\n",
    "- Use list methods and functions\n",
    "- Use dictionary methods\n",
    "- Use set methods and operations\n",
    "\n"
   ]
  },
  {
   "cell_type": "markdown",
   "id": "f30c5c88",
   "metadata": {},
   "source": [
    "## Part 1: Working with Numbers (Integers and Floats)\n",
    "\n",
    "Numbers can be added, subtracted, multiplied, and divided. Let's practice these operations!\n"
   ]
  },
  {
   "cell_type": "markdown",
   "id": "cedc291b",
   "metadata": {},
   "source": [
    "**Exercise 1:** Add three numbers together and store the result in a variable called `total_sum`.\n"
   ]
  },
  {
   "cell_type": "code",
   "execution_count": null,
   "id": "d36c8cf4",
   "metadata": {},
   "outputs": [],
   "source": [
    "# Write your answer here\n",
    "total_sum = 15 + 25 + 10\n",
    "print(\"The sum is:\", total_sum)\n"
   ]
  },
  {
   "cell_type": "markdown",
   "id": "26235663",
   "metadata": {},
   "source": [
    "**Exercise 2:** Multiply two numbers and divide the result by a third number.\n"
   ]
  },
  {
   "cell_type": "code",
   "execution_count": null,
   "id": "b0dee4eb",
   "metadata": {},
   "outputs": [],
   "source": [
    "# Write your answer here\n",
    "result = (8 * 6) / 4\n",
    "print(\"The result is:\", result)\n"
   ]
  },
  {
   "cell_type": "markdown",
   "id": "c3a814f9",
   "metadata": {},
   "source": [
    "**Exercise 3:** Find the remainder when you divide 17 by 5 using the `%` operator.\n"
   ]
  },
  {
   "cell_type": "code",
   "execution_count": null,
   "id": "42b60639",
   "metadata": {},
   "outputs": [],
   "source": [
    "# Write your answer here\n",
    "remainder = 17 % 5\n",
    "print(\"The remainder is:\", remainder)\n"
   ]
  },
  {
   "cell_type": "markdown",
   "id": "ca3ef796",
   "metadata": {},
   "source": [
    "**Exercise 4:** Use the `**` function to calculate 2 to the power of 8.\n"
   ]
  },
  {
   "cell_type": "code",
   "execution_count": null,
   "id": "299ed034",
   "metadata": {},
   "outputs": [],
   "source": [
    "# Write your answer here\n",
    "power_result = 2 ** 8\n",
    "print(\"2 to the power of 8 is:\", power_result)\n"
   ]
  },
  {
   "cell_type": "markdown",
   "id": "6929b939",
   "metadata": {},
   "source": [
    "**Exercise 5:** Use the `round()` function to round 3.14159 to 2 decimal places.\n"
   ]
  },
  {
   "cell_type": "code",
   "execution_count": 1,
   "id": "f642b2cc",
   "metadata": {},
   "outputs": [
    {
     "name": "stdout",
     "output_type": "stream",
     "text": [
      "Rounded number: 3\n"
     ]
    }
   ],
   "source": [
    "# Write your answer here\n",
    "rounded_number = round(3.14159)\n",
    "print(\"Rounded number:\", rounded_number)\n"
   ]
  },
  {
   "cell_type": "markdown",
   "id": "ad5dc689",
   "metadata": {},
   "source": [
    "## Part 2: Working with Strings\n",
    "\n",
    "Strings have many useful methods. Let's practice using them!\n"
   ]
  },
  {
   "cell_type": "markdown",
   "id": "ddf255e8",
   "metadata": {},
   "source": [
    "**Exercise 6:** Create a string and use the `.upper()` method to make it all uppercase.\n"
   ]
  },
  {
   "cell_type": "code",
   "execution_count": 2,
   "id": "d21f78eb",
   "metadata": {},
   "outputs": [
    {
     "name": "stdout",
     "output_type": "stream",
     "text": [
      "Uppercase: HELLO WORLD\n"
     ]
    }
   ],
   "source": [
    "# Write your answer here\n",
    "my_text = \"hello world\"\n",
    "uppercase_text = my_text.upper()\n",
    "print(\"Uppercase:\", uppercase_text)\n"
   ]
  },
  {
   "cell_type": "markdown",
   "id": "5d4da2e8",
   "metadata": {},
   "source": [
    "**Exercise 7:** Use the `.lower()` method to make a string all lowercase.\n"
   ]
  },
  {
   "cell_type": "code",
   "execution_count": 3,
   "id": "0dd4c0c8",
   "metadata": {},
   "outputs": [
    {
     "name": "stdout",
     "output_type": "stream",
     "text": [
      "Lowercase: python programming\n"
     ]
    }
   ],
   "source": [
    "# Write your answer here\n",
    "my_text = \"PYTHON PROGRAMMING\"\n",
    "lowercase_text = my_text.lower()\n",
    "print(\"Lowercase:\", lowercase_text)\n"
   ]
  },
  {
   "cell_type": "markdown",
   "id": "ad696f92",
   "metadata": {},
   "source": [
    "**Exercise 8:** Use the `.replace()` method to replace one word with another in a string.\n"
   ]
  },
  {
   "cell_type": "code",
   "execution_count": 4,
   "id": "ba985275",
   "metadata": {},
   "outputs": [
    {
     "name": "stdout",
     "output_type": "stream",
     "text": [
      "Original: I love cats\n",
      "New: I love dogs\n"
     ]
    }
   ],
   "source": [
    "# Write your answer here\n",
    "sentence = \"I love cats\"\n",
    "new_sentence = sentence.replace(\"cats\", \"dogs\")\n",
    "print(\"Original:\", sentence)\n",
    "print(\"New:\", new_sentence)\n"
   ]
  },
  {
   "cell_type": "markdown",
   "id": "8377a58b",
   "metadata": {},
   "source": [
    "**Exercise 9:** Use the `.strip()` method to remove spaces from the beginning and end of a string.\n"
   ]
  },
  {
   "cell_type": "code",
   "execution_count": 5,
   "id": "9848b76a",
   "metadata": {},
   "outputs": [
    {
     "name": "stdout",
     "output_type": "stream",
     "text": [
      "Before strip: '   hello world   '\n",
      "After strip: 'hello world'\n"
     ]
    }
   ],
   "source": [
    "# Write your answer here\n",
    "messy_text = \"   hello world   \"\n",
    "clean_text = messy_text.strip()\n",
    "print(\"Before strip:\", repr(messy_text))\n",
    "print(\"After strip:\", repr(clean_text))\n"
   ]
  },
  {
   "cell_type": "markdown",
   "id": "dc6243e1",
   "metadata": {},
   "source": [
    "**Exercise 10:** Use the `.split()` method to split a sentence into a list of words.\n"
   ]
  },
  {
   "cell_type": "code",
   "execution_count": 6,
   "id": "62dd7aa5",
   "metadata": {},
   "outputs": [
    {
     "name": "stdout",
     "output_type": "stream",
     "text": [
      "Original sentence: Python is awesome\n",
      "List of words: ['Python', 'is', 'awesome']\n"
     ]
    }
   ],
   "source": [
    "# Write your answer here\n",
    "sentence = \"Python is awesome\"\n",
    "word_list = sentence.split()\n",
    "print(\"Original sentence:\", sentence)\n",
    "print(\"List of words:\", word_list)\n"
   ]
  },
  {
   "cell_type": "markdown",
   "id": "0261b089",
   "metadata": {},
   "source": [
    "**Exercise 11:** Use the `len()` function to find the length of a string.\n"
   ]
  },
  {
   "cell_type": "code",
   "execution_count": 7,
   "id": "00bac02f",
   "metadata": {},
   "outputs": [
    {
     "name": "stdout",
     "output_type": "stream",
     "text": [
      "The string: Hello, Python!\n",
      "Length: 14\n"
     ]
    }
   ],
   "source": [
    "# Write your answer here\n",
    "my_string = \"Hello, Python!\"\n",
    "string_length = len(my_string)\n",
    "print(\"The string:\", my_string)\n",
    "print(\"Length:\", string_length)\n"
   ]
  },
  {
   "cell_type": "markdown",
   "id": "40a7f23e",
   "metadata": {},
   "source": [
    "## Part 3: Working with Lists\n",
    "\n",
    "Lists have many methods to add, remove, and modify items. Let's practice!\n"
   ]
  },
  {
   "cell_type": "markdown",
   "id": "2a12a695",
   "metadata": {},
   "source": [
    "**Exercise 12:** Use the `sum()` function to add all numbers in a list.\n"
   ]
  },
  {
   "cell_type": "code",
   "execution_count": 8,
   "id": "e47d2035",
   "metadata": {},
   "outputs": [
    {
     "name": "stdout",
     "output_type": "stream",
     "text": [
      "Numbers: [10, 20, 30, 40, 50]\n",
      "Sum: 150\n"
     ]
    }
   ],
   "source": [
    "# Write your answer here\n",
    "numbers = [10, 20, 30, 40, 50]\n",
    "total = sum(numbers)\n",
    "print(\"Numbers:\", numbers)\n",
    "print(\"Sum:\", total)\n"
   ]
  },
  {
   "cell_type": "markdown",
   "id": "ab605b2c",
   "metadata": {},
   "source": [
    "**Exercise 13:** Use the `.append()` method to add a new item to a list.\n"
   ]
  },
  {
   "cell_type": "code",
   "execution_count": 9,
   "id": "bcea0baf",
   "metadata": {},
   "outputs": [
    {
     "name": "stdout",
     "output_type": "stream",
     "text": [
      "Before append: ['apple', 'banana', 'cherry']\n",
      "After append: ['apple', 'banana', 'cherry', 'orange']\n"
     ]
    }
   ],
   "source": [
    "# Write your answer here\n",
    "fruits = [\"apple\", \"banana\", \"cherry\"]\n",
    "print(\"Before append:\", fruits)\n",
    "fruits.append(\"orange\")\n",
    "print(\"After append:\", fruits)\n"
   ]
  },
  {
   "cell_type": "markdown",
   "id": "c3840e98",
   "metadata": {},
   "source": [
    "**Exercise 14:** Use the `.extend()` method to add multiple items to a list.\n"
   ]
  },
  {
   "cell_type": "code",
   "execution_count": 10,
   "id": "07e3f93d",
   "metadata": {},
   "outputs": [
    {
     "name": "stdout",
     "output_type": "stream",
     "text": [
      "Before extend: ['red', 'blue']\n",
      "After extend: ['red', 'blue', 'green', 'yellow']\n"
     ]
    }
   ],
   "source": [
    "# Write your answer here\n",
    "colors = [\"red\", \"blue\"]\n",
    "print(\"Before extend:\", colors)\n",
    "colors.extend([\"green\", \"yellow\"])\n",
    "print(\"After extend:\", colors)\n"
   ]
  },
  {
   "cell_type": "markdown",
   "id": "e1e5b0ef",
   "metadata": {},
   "source": [
    "**Exercise 15:** Use the `.insert()` method to add an item at a specific position.\n"
   ]
  },
  {
   "cell_type": "code",
   "execution_count": 11,
   "id": "bd6d4854",
   "metadata": {},
   "outputs": [
    {
     "name": "stdout",
     "output_type": "stream",
     "text": [
      "Before insert: ['cat', 'dog', 'fish']\n",
      "After insert: ['cat', 'bird', 'dog', 'fish']\n"
     ]
    }
   ],
   "source": [
    "# Write your answer here\n",
    "animals = [\"cat\", \"dog\", \"fish\"]\n",
    "print(\"Before insert:\", animals)\n",
    "animals.insert(1, \"bird\")\n",
    "print(\"After insert:\", animals)\n"
   ]
  },
  {
   "cell_type": "markdown",
   "id": "aea0bd14",
   "metadata": {},
   "source": [
    "**Exercise 16:** Use the `.remove()` method to remove a specific item from a list.\n"
   ]
  },
  {
   "cell_type": "code",
   "execution_count": 12,
   "id": "8d08bb50",
   "metadata": {},
   "outputs": [
    {
     "name": "stdout",
     "output_type": "stream",
     "text": [
      "Before remove: [1, 2, 3, 4, 5]\n",
      "After remove: [1, 2, 4, 5]\n"
     ]
    }
   ],
   "source": [
    "# Write your answer here\n",
    "numbers = [1, 2, 3, 4, 5]\n",
    "print(\"Before remove:\", numbers)\n",
    "numbers.remove(3)\n",
    "print(\"After remove:\", numbers)\n"
   ]
  },
  {
   "cell_type": "markdown",
   "id": "e57570fe",
   "metadata": {},
   "source": [
    "**Exercise 17:** Use the `.pop()` method to remove and return the last item from a list.\n"
   ]
  },
  {
   "cell_type": "code",
   "execution_count": 13,
   "id": "a3e76c17",
   "metadata": {},
   "outputs": [
    {
     "name": "stdout",
     "output_type": "stream",
     "text": [
      "Before pop: ['book', 'pen', 'paper', 'pencil']\n",
      "Removed item: pencil\n",
      "After pop: ['book', 'pen', 'paper']\n"
     ]
    }
   ],
   "source": [
    "# Write your answer here\n",
    "items = [\"book\", \"pen\", \"paper\", \"pencil\"]\n",
    "print(\"Before pop:\", items)\n",
    "removed_item = items.pop()\n",
    "print(\"Removed item:\", removed_item)\n",
    "print(\"After pop:\", items)\n"
   ]
  },
  {
   "cell_type": "markdown",
   "id": "09f69155",
   "metadata": {},
   "source": [
    "**Exercise 18:** Use the `max()` and `min()` functions to find the largest and smallest numbers in a list.\n"
   ]
  },
  {
   "cell_type": "code",
   "execution_count": 14,
   "id": "93d1a480",
   "metadata": {},
   "outputs": [
    {
     "name": "stdout",
     "output_type": "stream",
     "text": [
      "Numbers: [15, 3, 28, 7, 12]\n",
      "Largest: 28\n",
      "Smallest: 3\n"
     ]
    }
   ],
   "source": [
    "# Write your answer here\n",
    "numbers = [15, 3, 28, 7, 12]\n",
    "largest = max(numbers)\n",
    "smallest = min(numbers)\n",
    "print(\"Numbers:\", numbers)\n",
    "print(\"Largest:\", largest)\n",
    "print(\"Smallest:\", smallest)\n"
   ]
  },
  {
   "cell_type": "markdown",
   "id": "86ebaaad",
   "metadata": {},
   "source": [
    "## Part 4: Working with Dictionaries\n",
    "\n",
    "Dictionaries have special methods to work with keys and values. Let's practice!\n"
   ]
  },
  {
   "cell_type": "markdown",
   "id": "6024e9fe",
   "metadata": {},
   "source": [
    "**Exercise 19:** Use the `.keys()` method to get all keys from a dictionary.\n"
   ]
  },
  {
   "cell_type": "code",
   "execution_count": null,
   "id": "fd09f73c",
   "metadata": {},
   "outputs": [],
   "source": [
    "# Write your answer here\n",
    "student = {\"name\": \"Alice\", \"age\": 20, \"grade\": \"A\"}\n",
    "all_keys = student.keys()\n",
    "print(\"Dictionary:\", student)\n",
    "print(\"All keys:\", list(all_keys))\n"
   ]
  },
  {
   "cell_type": "markdown",
   "id": "60daf940",
   "metadata": {},
   "source": [
    "**Exercise 20:** Use the `.values()` method to get all values from a dictionary.\n"
   ]
  },
  {
   "cell_type": "code",
   "execution_count": null,
   "id": "5226ecde",
   "metadata": {},
   "outputs": [],
   "source": [
    "# Write your answer here\n",
    "student = {\"name\": \"Alice\", \"age\": 20, \"grade\": \"A\"}\n",
    "all_values = student.values()\n",
    "print(\"Dictionary:\", student)\n",
    "print(\"All values:\", list(all_values))\n"
   ]
  },
  {
   "cell_type": "markdown",
   "id": "ef0ff363",
   "metadata": {},
   "source": [
    "**Exercise 21:** Use the `.items()` method to get all key-value pairs from a dictionary.\n"
   ]
  },
  {
   "cell_type": "code",
   "execution_count": null,
   "id": "70e22817",
   "metadata": {},
   "outputs": [],
   "source": [
    "# Write your answer here\n",
    "student = {\"name\": \"Alice\", \"age\": 20, \"grade\": \"A\"}\n",
    "all_items = student.items()\n",
    "print(\"Dictionary:\", student)\n",
    "print(\"All items:\", list(all_items))\n"
   ]
  },
  {
   "cell_type": "markdown",
   "id": "c6caa525",
   "metadata": {},
   "source": [
    "**Exercise 22:** Use the `.get()` method to safely get a value from a dictionary (it won't give an error if the key doesn't exist).\n"
   ]
  },
  {
   "cell_type": "code",
   "execution_count": null,
   "id": "6cd04b09",
   "metadata": {},
   "outputs": [],
   "source": [
    "# Write your answer here\n",
    "student = {\"name\": \"Alice\", \"age\": 20}\n",
    "name = student.get(\"name\", \"Unknown\")\n",
    "city = student.get(\"city\", \"Unknown\")\n",
    "print(\"Name:\", name)\n",
    "print(\"City:\", city)\n"
   ]
  },
  {
   "cell_type": "markdown",
   "id": "dcb7c18c",
   "metadata": {},
   "source": [
    "## Part 5: Working with Sets\n",
    "\n",
    "Sets have special methods for adding, removing, and combining sets. Let's practice!\n"
   ]
  },
  {
   "cell_type": "markdown",
   "id": "63c433c4",
   "metadata": {},
   "source": [
    "**Exercise 23:** Use the `.add()` method to add a new item to a set.\n"
   ]
  },
  {
   "cell_type": "code",
   "execution_count": null,
   "id": "0af1a880",
   "metadata": {},
   "outputs": [],
   "source": [
    "# Write your answer here\n",
    "colors = {\"red\", \"blue\", \"green\"}\n",
    "print(\"Before add:\", colors)\n",
    "colors.add(\"yellow\")\n",
    "print(\"After add:\", colors)\n"
   ]
  },
  {
   "cell_type": "markdown",
   "id": "741dba7d",
   "metadata": {},
   "source": [
    "**Exercise 24:** Use the `|` operator to find the union of two sets (all unique items from both sets).\n"
   ]
  },
  {
   "cell_type": "code",
   "execution_count": 15,
   "id": "9d3b6fd4",
   "metadata": {},
   "outputs": [
    {
     "name": "stdout",
     "output_type": "stream",
     "text": [
      "Set 1: {1, 2, 3, 4}\n",
      "Set 2: {3, 4, 5, 6}\n",
      "Union: {1, 2, 3, 4, 5, 6}\n"
     ]
    }
   ],
   "source": [
    "# Write your answer here\n",
    "set1 = {1, 2, 3, 4}\n",
    "set2 = {3, 4, 5, 6}\n",
    "union_set = set1 | set2\n",
    "print(\"Set 1:\", set1)\n",
    "print(\"Set 2:\", set2)\n",
    "print(\"Union:\", union_set)\n"
   ]
  },
  {
   "cell_type": "markdown",
   "id": "4e4b9662",
   "metadata": {},
   "source": [
    "**Exercise 25:** Use the `&` operator to find the intersection of two sets (items that are in both sets).\n"
   ]
  },
  {
   "cell_type": "code",
   "execution_count": null,
   "id": "9b575300",
   "metadata": {},
   "outputs": [],
   "source": [
    "# Write your answer here\n",
    "set1 = {1, 2, 3, 4}\n",
    "set2 = {3, 4, 5, 6}\n",
    "intersection_set = set1 & set2\n",
    "print(\"Set 1:\", set1)\n",
    "print(\"Set 2:\", set2)\n",
    "print(\"Intersection:\", intersection_set)\n"
   ]
  },
  {
   "cell_type": "markdown",
   "id": "803bf2d6",
   "metadata": {},
   "source": [
    "## Part 6: Mixed Practice\n",
    "\n",
    "Now let's combine everything you've learned! These exercises use multiple data types together.\n"
   ]
  },
  {
   "cell_type": "markdown",
   "id": "2759830b",
   "metadata": {},
   "source": [
    "**Exercise 26:** Create a dictionary with student information, then use string methods to format the name properly.\n"
   ]
  },
  {
   "cell_type": "code",
   "execution_count": 16,
   "id": "999e59b5",
   "metadata": {},
   "outputs": [
    {
     "name": "stdout",
     "output_type": "stream",
     "text": [
      "Original name: john doe\n",
      "Formatted name: John Doe\n"
     ]
    }
   ],
   "source": [
    "# Write your answer here\n",
    "student = {\"name\": \"john doe\", \"age\": 18, \"grade\": \"B\"}\n",
    "print(\"Original name:\", student[\"name\"])\n",
    "formatted_name = student[\"name\"].title()\n",
    "print(\"Formatted name:\", formatted_name)\n"
   ]
  },
  {
   "cell_type": "markdown",
   "id": "e8e5edc2",
   "metadata": {},
   "source": [
    "**Exercise 27:** Create a list of numbers, find the sum, and store the result in a dictionary.\n"
   ]
  },
  {
   "cell_type": "code",
   "execution_count": 17,
   "id": "5080431f",
   "metadata": {},
   "outputs": [
    {
     "name": "stdout",
     "output_type": "stream",
     "text": [
      "Result dictionary: {'numbers': [5, 10, 15, 20, 25], 'sum': 75, 'count': 5}\n"
     ]
    }
   ],
   "source": [
    "# Write your answer here\n",
    "numbers = [5, 10, 15, 20, 25]\n",
    "total = sum(numbers)\n",
    "result_dict = {\"numbers\": numbers, \"sum\": total, \"count\": len(numbers)}\n",
    "print(\"Result dictionary:\", result_dict)\n"
   ]
  },
  {
   "cell_type": "markdown",
   "id": "9d0fdb3e",
   "metadata": {},
   "source": [
    "**Exercise 28:** Create a string, split it into words, and count how many words there are.\n"
   ]
  },
  {
   "cell_type": "code",
   "execution_count": 18,
   "id": "913310f7",
   "metadata": {},
   "outputs": [
    {
     "name": "stdout",
     "output_type": "stream",
     "text": [
      "Original sentence: Python programming is fun and exciting\n",
      "Words: ['Python', 'programming', 'is', 'fun', 'and', 'exciting']\n",
      "Number of words: 6\n"
     ]
    }
   ],
   "source": [
    "# Write your answer here\n",
    "sentence = \"Python programming is fun and exciting\"\n",
    "words = sentence.split()\n",
    "word_count = len(words)\n",
    "print(\"Original sentence:\", sentence)\n",
    "print(\"Words:\", words)\n",
    "print(\"Number of words:\", word_count)\n"
   ]
  },
  {
   "cell_type": "markdown",
   "id": "28c836bf",
   "metadata": {},
   "source": [
    "**Exercise 29:** Create a dictionary with mixed data types, then use different methods to extract information.\n"
   ]
  },
  {
   "cell_type": "code",
   "execution_count": 19,
   "id": "6acfe9ba",
   "metadata": {},
   "outputs": [
    {
     "name": "stdout",
     "output_type": "stream",
     "text": [
      "Person info: {'name': 'Alice Smith', 'age': 25, 'hobbies': ['reading', 'swimming', 'cooking'], 'is_student': True}\n",
      "Name (uppercase): ALICE SMITH\n",
      "Number of hobbies: 3\n",
      "All keys: ['name', 'age', 'hobbies', 'is_student']\n",
      "All values: ['Alice Smith', 25, ['reading', 'swimming', 'cooking'], True]\n"
     ]
    }
   ],
   "source": [
    "# Write your answer here\n",
    "person = {\n",
    "    \"name\": \"Alice Smith\",\n",
    "    \"age\": 25,\n",
    "    \"hobbies\": [\"reading\", \"swimming\", \"cooking\"],\n",
    "    \"is_student\": True\n",
    "}\n",
    "\n",
    "print(\"Person info:\", person)\n",
    "print(\"Name (uppercase):\", person[\"name\"].upper())\n",
    "print(\"Number of hobbies:\", len(person[\"hobbies\"]))\n",
    "print(\"All keys:\", list(person.keys()))\n",
    "print(\"All values:\", list(person.values()))\n"
   ]
  },
  {
   "cell_type": "markdown",
   "id": "b5237273",
   "metadata": {},
   "source": [
    "## Congratulations! 🎉\n",
    "\n",
    "You've completed all the advanced exercises! You now know how to:\n",
    "\n",
    "### Numbers:\n",
    "- Add, subtract, multiply, and divide\n",
    "- Use `%` for remainder\n",
    "- Use `**` for exponents\n",
    "- Use `round()` for rounding\n",
    "\n",
    "### Strings:\n",
    "- Use `.upper()`, `.lower()`, `.title()`\n",
    "- Use `.replace()`, `.strip()`, `.split()`\n",
    "- Use `len()` to find length\n",
    "\n",
    "### Lists:\n",
    "- Use `sum()`, `max()`, `min()`\n",
    "- Use `.append()`, `.extend()`, `.insert()`\n",
    "- Use `.remove()`, `.pop()`\n",
    "\n",
    "### Dictionaries:\n",
    "- Use `.keys()`, `.values()`, `.items()`\n",
    "- Use `.get()`, `.pop()`\n",
    "- Use `len()` to count items\n",
    "\n",
    "### Sets:\n",
    "- Use `.add()`, `.remove()`, `.discard()`\n",
    "- Use `|`, `&`, `-` for set operations\n",
    "- Use `len()` to count items\n",
    "\n",
    "Keep practicing these methods and functions - they are very useful in programming!\n"
   ]
  },
  {
   "cell_type": "code",
   "execution_count": null,
   "id": "46ebebd9",
   "metadata": {},
   "outputs": [],
   "source": []
  }
 ],
 "metadata": {
  "kernelspec": {
   "display_name": "Python 3",
   "language": "python",
   "name": "python3"
  },
  "language_info": {
   "codemirror_mode": {
    "name": "ipython",
    "version": 3
   },
   "file_extension": ".py",
   "mimetype": "text/x-python",
   "name": "python",
   "nbconvert_exporter": "python",
   "pygments_lexer": "ipython3",
   "version": "3.11.0"
  }
 },
 "nbformat": 4,
 "nbformat_minor": 5
}
