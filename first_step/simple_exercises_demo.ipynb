{
 "cells": [
  {
   "cell_type": "markdown",
   "id": "ce1c74f6",
   "metadata": {},
   "source": [
    "# Python Practice Exercises\n",
    "\n",
    "Welcome to your Python practice notebook! Here you will find exercises to help you learn about:\n",
    "- Variables and data types\n",
    "- Lists\n",
    "- Sets  \n",
    "- Dictionaries\n",
    "- Print and type functions\n",
    "\n",
    "Each exercise has a simple explanation above it. Try to solve them step by step!\n"
   ]
  },
  {
   "cell_type": "markdown",
   "id": "87941bae",
   "metadata": {},
   "source": [
    "## Part 1: Variables and Data Types\n",
    "\n",
    "Variables are like boxes that store information. Let's practice creating different types of variables."
   ]
  },
  {
   "cell_type": "markdown",
   "id": "eac9f0dc",
   "metadata": {},
   "source": [
    "**Exercise 1:** Create a variable called `my_age` and put your age as a number in it.\n"
   ]
  },
  {
   "cell_type": "code",
   "execution_count": null,
   "id": "f8301fc8",
   "metadata": {},
   "outputs": [],
   "source": [
    "# Write your answer here\n",
    "my_age = 20  # Replace 20 with your actual age\n"
   ]
  },
  {
   "cell_type": "markdown",
   "id": "c8749385",
   "metadata": {},
   "source": [
    "**Exercise 2:** Create a variable called `my_name` and put your name as text (in quotes) in it.\n"
   ]
  },
  {
   "cell_type": "code",
   "execution_count": null,
   "id": "c2e7f195",
   "metadata": {},
   "outputs": [],
   "source": [
    "# Write your answer here\n",
    "my_name = \"John\"  # Replace \"John\" with your actual name\n"
   ]
  },
  {
   "cell_type": "markdown",
   "id": "cd2b8ff4",
   "metadata": {},
   "source": [
    "**Exercise 3:** Create a variable called `is_student` and put `True` or `False` in it (True if you are a student, False if not).\n"
   ]
  },
  {
   "cell_type": "code",
   "execution_count": null,
   "id": "9ceeae50",
   "metadata": {},
   "outputs": [],
   "source": [
    "# Write your answer here\n",
    "is_student = True  # Change to False if you are not a student\n"
   ]
  },
  {
   "cell_type": "markdown",
   "id": "1ffb5126",
   "metadata": {},
   "source": [
    "**Exercise 4:** Use the `print()` function to show all three variables you created above.\n"
   ]
  },
  {
   "cell_type": "code",
   "execution_count": null,
   "id": "9f62242a",
   "metadata": {},
   "outputs": [],
   "source": [
    "# Write your answer here\n",
    "print(my_age)\n",
    "print(my_name)\n",
    "print(is_student)\n"
   ]
  },
  {
   "cell_type": "markdown",
   "id": "9f621f1e",
   "metadata": {},
   "source": [
    "## Part 2: Lists\n",
    "\n",
    "Lists are like shopping lists - they can hold many items in order. Let's practice working with lists.\n"
   ]
  },
  {
   "cell_type": "markdown",
   "id": "a3649d6b",
   "metadata": {},
   "source": [
    "**Exercise 5:** Create a list called `favorite_foods` with 4 of your favorite foods.\n"
   ]
  },
  {
   "cell_type": "code",
   "execution_count": null,
   "id": "f4723d86",
   "metadata": {},
   "outputs": [],
   "source": [
    "# Write your answer here\n",
    "favorite_foods = [\"pizza\", \"pasta\", \"ice cream\", \"chocolate\"]\n"
   ]
  },
  {
   "cell_type": "markdown",
   "id": "6a8faa02",
   "metadata": {},
   "source": [
    "**Exercise 6:** Print the first food in your list (remember: the first item is at position 0).\n"
   ]
  },
  {
   "cell_type": "code",
   "execution_count": null,
   "id": "d467673f",
   "metadata": {},
   "outputs": [],
   "source": [
    "# Write your answer here\n",
    "print(favorite_foods[0])\n"
   ]
  },
  {
   "cell_type": "markdown",
   "id": "fbc50867",
   "metadata": {},
   "source": [
    "**Exercise 7:** Add a new food to the end of your list using the `append()` method.\n"
   ]
  },
  {
   "cell_type": "code",
   "execution_count": null,
   "id": "cd80ec79",
   "metadata": {},
   "outputs": [],
   "source": [
    "# Write your answer here\n",
    "favorite_foods.append(\"burger\")\n",
    "print(favorite_foods)\n"
   ]
  },
  {
   "cell_type": "markdown",
   "id": "01ab0a35",
   "metadata": {},
   "source": [
    "**Exercise 8:** Change the second food in your list to \"salad\".\n"
   ]
  },
  {
   "cell_type": "code",
   "execution_count": null,
   "id": "6a5f715c",
   "metadata": {},
   "outputs": [],
   "source": [
    "# Write your answer here\n",
    "favorite_foods[1] = \"salad\"\n",
    "print(favorite_foods)\n"
   ]
  },
  {
   "cell_type": "markdown",
   "id": "edf37fc1",
   "metadata": {},
   "source": [
    "## Part 3: Sets\n",
    "\n",
    "Sets are like bags that only keep unique items (no duplicates). Let's practice working with sets.\n"
   ]
  },
  {
   "cell_type": "markdown",
   "id": "403fda17",
   "metadata": {},
   "source": [
    "**Exercise 9:** Create a set called `my_colors` with 5 different colors.\n"
   ]
  },
  {
   "cell_type": "code",
   "execution_count": null,
   "id": "8a89000c",
   "metadata": {},
   "outputs": [],
   "source": [
    "# Write your answer here\n",
    "my_colors = {\"red\", \"blue\", \"green\", \"yellow\", \"purple\"}\n",
    "print(my_colors)\n",
    "6"
   ]
  },
  {
   "cell_type": "markdown",
   "id": "86415c73",
   "metadata": {},
   "source": [
    "**Exercise 10:** Add a new color to your set using the `add()` method.\n"
   ]
  },
  {
   "cell_type": "code",
   "execution_count": null,
   "id": "891dfc5c",
   "metadata": {},
   "outputs": [],
   "source": [
    "# Write your answer here\n",
    "my_colors.add(\"orange\")\n",
    "print(my_colors)\n"
   ]
  },
  {
   "cell_type": "markdown",
   "id": "ca88772c",
   "metadata": {},
   "source": [
    "**Exercise 11:** Create two sets with some common colors and find which colors they share (intersection).\n"
   ]
  },
  {
   "cell_type": "code",
   "execution_count": null,
   "id": "599689b6",
   "metadata": {},
   "outputs": [],
   "source": [
    "# Write your answer here\n",
    "set1 = {\"red\", \"blue\", \"green\", \"yellow\"}\n",
    "set2 = {\"blue\", \"green\", \"purple\", \"orange\"}\n",
    "\n",
    "# Find common colors\n",
    "common_colors = set1 & set2\n",
    "print(\"Common colors:\", common_colors)\n"
   ]
  },
  {
   "cell_type": "markdown",
   "id": "c6563cdd",
   "metadata": {},
   "source": [
    "## Part 4: Dictionaries\n",
    "\n",
    "Dictionaries are like phone books - they connect names (keys) with information (values). Let's practice working with dictionaries.\n"
   ]
  },
  {
   "cell_type": "markdown",
   "id": "e12d6ea9",
   "metadata": {},
   "source": [
    "**Exercise 12:** Create a dictionary called `my_pet` with information about a pet (name, age, type).\n"
   ]
  },
  {
   "cell_type": "code",
   "execution_count": null,
   "id": "48e6c8fa",
   "metadata": {},
   "outputs": [],
   "source": [
    "# Write your answer here\n",
    "my_pet = {\n",
    "    \"name\": \"Buddy\",\n",
    "    \"age\": 3,\n",
    "    \"type\": \"dog\"\n",
    "}\n",
    "print(my_pet)\n"
   ]
  },
  {
   "cell_type": "markdown",
   "id": "609b9cc9",
   "metadata": {},
   "source": [
    "**Exercise 13:** Print just the pet's name from the dictionary.\n"
   ]
  },
  {
   "cell_type": "code",
   "execution_count": null,
   "id": "aba567ab",
   "metadata": {},
   "outputs": [],
   "source": [
    "# Write your answer here\n",
    "print(my_pet[\"name\"])\n"
   ]
  },
  {
   "cell_type": "markdown",
   "id": "32ea8be7",
   "metadata": {},
   "source": [
    "**Exercise 14:** Add a new piece of information to your pet dictionary (like \"color\").\n"
   ]
  },
  {
   "cell_type": "code",
   "execution_count": null,
   "id": "5dc42608",
   "metadata": {},
   "outputs": [],
   "source": [
    "# Write your answer here\n",
    "my_pet[\"color\"] = \"brown\"\n",
    "print(my_pet)\n"
   ]
  },
  {
   "cell_type": "markdown",
   "id": "f35b52c8",
   "metadata": {},
   "source": [
    "**Exercise 15:** Change the pet's age to a new number.\n"
   ]
  },
  {
   "cell_type": "code",
   "execution_count": null,
   "id": "49cc5012",
   "metadata": {},
   "outputs": [],
   "source": [
    "# Write your answer here\n",
    "my_pet[\"age\"] = 4\n",
    "print(my_pet)\n"
   ]
  },
  {
   "cell_type": "markdown",
   "id": "0b253170",
   "metadata": {},
   "source": [
    "## Part 5: Using print() and type() Functions\n",
    "\n",
    "The `print()` function shows information on the screen. The `type()` function tells you what kind of data something is.\n"
   ]
  },
  {
   "cell_type": "markdown",
   "id": "cee36cd3",
   "metadata": {},
   "source": [
    "**Exercise 16:** Use `type()` to check what type of data your variables are. Check `my_age`, `my_name`, and `is_student`.\n"
   ]
  },
  {
   "cell_type": "code",
   "execution_count": null,
   "id": "eea3f353",
   "metadata": {},
   "outputs": [],
   "source": [
    "# Write your answer here\n",
    "print(\"Type of my_age:\", type(my_age))\n",
    "print(\"Type of my_name:\", type(my_name))\n",
    "print(\"Type of is_student:\", type(is_student))\n"
   ]
  },
  {
   "cell_type": "markdown",
   "id": "01520885",
   "metadata": {},
   "source": [
    "**Exercise 17:** Create a variable with the number 25 in quotes (like \"25\") and check its type. What do you notice?\n"
   ]
  },
  {
   "cell_type": "code",
   "execution_count": null,
   "id": "529b75e9",
   "metadata": {},
   "outputs": [],
   "source": [
    "# Write your answer here\n",
    "number_as_text = \"25\"\n",
    "print(\"The value:\", number_as_text)\n",
    "print(\"The type:\", type(number_as_text))\n",
    "print(\"Notice: Even though it looks like a number, it's actually text because of the quotes!\")\n"
   ]
  },
  {
   "cell_type": "markdown",
   "id": "cd01eb0d",
   "metadata": {},
   "source": [
    "## Part 6: Mixed Practice\n",
    "\n",
    "Now let's combine everything you've learned! Try these final exercises.\n"
   ]
  },
  {
   "cell_type": "markdown",
   "id": "3a016184",
   "metadata": {},
   "source": [
    "**Exercise 18:** Create a list of your favorite numbers, then print each number one by one using a loop.\n"
   ]
  },
  {
   "cell_type": "code",
   "execution_count": null,
   "id": "79b78a58",
   "metadata": {},
   "outputs": [],
   "source": [
    "# Write your answer here\n",
    "favorite_numbers = [7, 13, 21, 42, 100]\n",
    "\n",
    "for number in favorite_numbers:\n",
    "    print(number)\n"
   ]
  },
  {
   "cell_type": "markdown",
   "id": "c4477b3f",
   "metadata": {},
   "source": [
    "**Exercise 19:** Create a dictionary about yourself with at least 4 pieces of information, then print a nice message using that information.\n"
   ]
  },
  {
   "cell_type": "code",
   "execution_count": null,
   "id": "a67890e9",
   "metadata": {},
   "outputs": [],
   "source": [
    "# Write your answer here\n",
    "about_me = {\n",
    "    \"name\": \"Alex\",\n",
    "    \"age\": 22,\n",
    "    \"hobby\": \"reading\",\n",
    "    \"favorite_color\": \"blue\"\n",
    "}\n",
    "\n",
    "print(f\"Hi! My name is {about_me['name']}.\")\n",
    "print(f\"I am {about_me['age']} years old.\")\n",
    "print(f\"I love {about_me['hobby']} and my favorite color is {about_me['favorite_color']}.\")\n"
   ]
  }
 ],
 "metadata": {
  "language_info": {
   "name": "python"
  }
 },
 "nbformat": 4,
 "nbformat_minor": 5
}
