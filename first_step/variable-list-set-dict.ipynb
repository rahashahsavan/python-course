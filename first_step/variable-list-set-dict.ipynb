{
  "cells": [
    {
      "cell_type": "markdown",
      "metadata": {
        "id": "8c4c0492"
      },
      "source": [
        "## Introduction to **variables**\n",
        "\n"
      ]
    },
    {
      "cell_type": "markdown",
      "metadata": {
        "id": "v60R0Ofx2tws"
      },
      "source": [
        "# Variables in Python\n",
        "Variables are like containers that hold data values. They allow you to store information in your programs and refer to it later by a name. Think of them as labels you attach to data.\n",
        "\n",
        "## Assigning Values to Variables\n",
        "\n",
        "In Python, you assign a value to a variable using the equals sign (`=`). The variable name goes on the left side of the `=`, and the value you want to store goes on the right side.\n",
        "python"
      ]
    },
    {
      "cell_type": "code",
      "execution_count": null,
      "metadata": {
        "id": "ngMuqviu3oMx"
      },
      "outputs": [],
      "source": [
        "x = 10\n",
        "name = \"Alice\"\n",
        "is_student = True\n",
        "\n",
        "#Here, `x` is a variable holding the integer value `10`, `name` is a variable holding the string value `\"Alice\"`, and `is_student` is a variable holding the boolean value `True`.\n"
      ]
    },
    {
      "cell_type": "markdown",
      "metadata": {
        "id": "ZyeIC_LS3wjO"
      },
      "source": [
        "## Variable Naming Conventions\n",
        "\n",
        "Choosing good variable names is important for writing readable code. Python has specific rules for valid variable names and also common conventions that most programmers follow.\n",
        "\n",
        "### Rules for Valid Variable Names:\n",
        "\n",
        "*   Variable names must start with a letter (a-z, A-Z) or an underscore (`_`).\n",
        "*   The rest of the name can contain letters, numbers (0-9), and underscores.\n",
        "*   Variable names are case-sensitive (`my_variable` is different from `My_Variable`).\n",
        "*   Reserved keywords (like `if`, `for`, `while`, `class`, etc.) cannot be used as variable names.\n",
        "\n",
        "### Common Naming Conventions (PEP 8 - Python's style guide):\n",
        "\n",
        "*   Use lowercase letters for variable names.\n",
        "*   Use underscores (`_`) to separate words in a variable name (e.g., `my_variable`, `total_count`). This is called `snake_case`.\n",
        "*   Avoid using single-letter variable names (like `x`, `y`) unless it's for short loops or simple temporary values.\n",
        "*   Choose names that are descriptive and indicate the purpose of the variable."
      ]
    },
    {
      "cell_type": "markdown",
      "metadata": {
        "id": "woEjp97g5FSg"
      },
      "source": [
        "# Examples of valid variable assignments"
      ]
    },
    {
      "cell_type": "code",
      "execution_count": null,
      "metadata": {
        "id": "h2H4nhHT44sd"
      },
      "outputs": [],
      "source": [
        "my_integer = 100"
      ]
    },
    {
      "cell_type": "code",
      "execution_count": null,
      "metadata": {
        "id": "3BjfCbAo48IZ"
      },
      "outputs": [],
      "source": [
        "user_name = \"Bob\""
      ]
    },
    {
      "cell_type": "code",
      "execution_count": null,
      "metadata": {
        "id": "fY8T_K1C49kI"
      },
      "outputs": [],
      "source": [
        "is_active = False"
      ]
    },
    {
      "cell_type": "code",
      "execution_count": null,
      "metadata": {
        "id": "GczU4fpI4_H9"
      },
      "outputs": [],
      "source": [
        "price_in_usd = 25.75"
      ]
    },
    {
      "cell_type": "code",
      "execution_count": null,
      "metadata": {
        "id": "ivAT8qPm5BFC"
      },
      "outputs": [],
      "source": [
        "_internal_variable = \"This starts with an underscore\""
      ]
    },
    {
      "cell_type": "code",
      "execution_count": null,
      "metadata": {
        "colab": {
          "base_uri": "https://localhost:8080/"
        },
        "id": "juKVgC6a41pe",
        "outputId": "77f6550e-e99c-4b37-ddc7-c28cfa7d1e9c"
      },
      "outputs": [
        {
          "name": "stdout",
          "output_type": "stream",
          "text": [
            "100\n",
            "Bob\n",
            "False\n",
            "25.75\n",
            "This starts with an underscore\n"
          ]
        }
      ],
      "source": [
        "print(my_integer)\n",
        "print(user_name)\n",
        "print(is_active)\n",
        "print(price_in_usd)\n",
        "print(_internal_variable)"
      ]
    },
    {
      "cell_type": "markdown",
      "metadata": {
        "id": "KTNUkV8P5J8j"
      },
      "source": [
        "# example of Invalid Variable Names"
      ]
    },
    {
      "cell_type": "code",
      "execution_count": null,
      "metadata": {
        "id": "7tOCeU7M4HPT"
      },
      "outputs": [],
      "source": [
        "\n",
        "1variable =  5                       #(starts with a number)\n",
        "my-variable = 6                     #(contains a hyphen)\n",
        "for = 12                             #(is a reserved keyword)\n",
        "my variable = \"1fjbd\"                     #(contains a space)\n",
        "my-variable = \"invalid\"                   # Contains a hyphen\n",
        "class = \"invalid\"                        # Is a reserved keyword"
      ]
    },
    {
      "cell_type": "markdown",
      "metadata": {
        "id": "MSsnTZTw52vK"
      },
      "source": [
        "## Variable Types\n",
        "\n",
        "Variables in Python can hold different types of data. The type of data a variable holds determines what kind of operations you can perform on it. Python is dynamically typed, which means you don't need to explicitly declare the type of a variable; Python infers it based on the value assigned.\n",
        "\n",
        "Here are four basic variable types:\n",
        "\n",
        "*   **Integers (`int`)**: Whole numbers, positive or negative, without decimals. Examples: `10`, `-5`, `0`.\n",
        "*   **Floats (`float`)**: Numbers with a decimal point, representing real numbers. Examples: `3.14`, `-0.001`, `2.0`.\n",
        "*   **Strings (`str`)**: Sequences of characters, enclosed in single quotes (`'`) or double quotes (`\"`). Examples: `\"Hello\"`, `'Python'`, `\"123\"`.\n",
        "*   **Booleans (`bool`)**: Represent truth values, either `True` or `False`. These are typically used in conditional statements."
      ]
    },
    {
      "cell_type": "markdown",
      "metadata": {
        "id": "bSpIORR96B7x"
      },
      "source": [
        "# Create variables of different types"
      ]
    },
    {
      "cell_type": "code",
      "execution_count": null,
      "metadata": {
        "id": "EEMR2Oog6DpQ"
      },
      "outputs": [],
      "source": [
        "my_integer = 10\n",
        "type(my_integer)"
      ]
    },
    {
      "cell_type": "code",
      "execution_count": null,
      "metadata": {
        "id": "aog06w816E_C"
      },
      "outputs": [],
      "source": [
        "my_float = 3.14\n",
        "type(my_float)"
      ]
    },
    {
      "cell_type": "code",
      "execution_count": null,
      "metadata": {
        "id": "XioST_XX6G5t"
      },
      "outputs": [],
      "source": [
        "my_string = \"Hello, world!\"\n",
        "type(my_string)"
      ]
    },
    {
      "cell_type": "code",
      "execution_count": null,
      "metadata": {
        "id": "6vl9Se6Z6IUs"
      },
      "outputs": [],
      "source": [
        "my_boolean = True\n",
        "type(my_boolean)"
      ]
    },
    {
      "cell_type": "markdown",
      "metadata": {
        "id": "Awyi0BQ-6RZw"
      },
      "source": [
        "\n",
        "## Exercises\n",
        "\n",
        "1.  Create a variable named `age` and assign your age as an integer.\n"
      ]
    },
    {
      "cell_type": "code",
      "execution_count": null,
      "metadata": {},
      "outputs": [],
      "source": []
    },
    {
      "cell_type": "markdown",
      "metadata": {},
      "source": [
        "2.  Create a variable named `height` and assign your height in meters as a float."
      ]
    },
    {
      "cell_type": "code",
      "execution_count": null,
      "metadata": {},
      "outputs": [],
      "source": []
    },
    {
      "cell_type": "markdown",
      "metadata": {},
      "source": [
        "3.  Create a variable named `greeting_message` and assign a short message as a string."
      ]
    },
    {
      "cell_type": "code",
      "execution_count": null,
      "metadata": {},
      "outputs": [],
      "source": []
    },
    {
      "cell_type": "markdown",
      "metadata": {},
      "source": [
        "4.  Create a variable named `is_sunny` and assign `True` or `False` depending on the weather."
      ]
    },
    {
      "cell_type": "code",
      "execution_count": null,
      "metadata": {},
      "outputs": [],
      "source": []
    },
    {
      "cell_type": "markdown",
      "metadata": {},
      "source": [
        "5.  Try assigning a number in quotes (e.g., `\"123\"`) to a variable and use `type()` to see what type it is. Explain why this is the case."
      ]
    },
    {
      "cell_type": "code",
      "execution_count": null,
      "metadata": {},
      "outputs": [],
      "source": []
    },
    {
      "cell_type": "markdown",
      "metadata": {
        "id": "69258616"
      },
      "source": [
        "## Introduction to Lists\n",
        "\n",
        "Lists are ordered collections of items. They are one of the most versatile data structures in Python and can hold items of different data types. You can think of a list as a sequence of elements enclosed in square brackets `[]`, where each element has an index starting from 0."
      ]
    },
    {
      "cell_type": "markdown",
      "metadata": {
        "id": "f5644425"
      },
      "source": [
        "### Creating Lists\n",
        "\n",
        "You can create a list by placing items inside square brackets `[]`, separated by commas."
      ]
    },
    {
      "cell_type": "code",
      "execution_count": null,
      "metadata": {
        "id": "RYWK5chN7jMY"
      },
      "outputs": [],
      "source": [
        "# An empty list\n",
        "empty_list = []\n",
        "print(empty_list)"
      ]
    },
    {
      "cell_type": "code",
      "execution_count": null,
      "metadata": {
        "id": "6LXkyYt97kw8"
      },
      "outputs": [],
      "source": [
        "# A list of integers\n",
        "numbers = [1, 2, 3, 4, 5]\n",
        "print(numbers)\n"
      ]
    },
    {
      "cell_type": "code",
      "execution_count": null,
      "metadata": {
        "id": "62CNvrV57m6R"
      },
      "outputs": [],
      "source": [
        "# A list of strings\n",
        "fruits = [\"apple\", \"banana\", \"cherry\"]\n",
        "print(fruits)"
      ]
    },
    {
      "cell_type": "code",
      "execution_count": null,
      "metadata": {
        "id": "ab012206"
      },
      "outputs": [],
      "source": [
        "# A list with mixed data types\n",
        "mixed_list = [1, \"hello\", 3.14, True]\n",
        "print(mixed_list)"
      ]
    },
    {
      "cell_type": "markdown",
      "metadata": {
        "id": "4cb1840e"
      },
      "source": [
        "### Accessing List Items\n",
        "\n",
        "You can access individual items in a list using their index. The index of the first item is 0, the second is 1, and so on. You can also use negative indices to access items from the end of the list (e.g., -1 for the last item, -2 for the second to last)."
      ]
    },
    {
      "cell_type": "code",
      "execution_count": null,
      "metadata": {
        "colab": {
          "base_uri": "https://localhost:8080/",
          "height": 35
        },
        "id": "0EgCkjw37ttP",
        "outputId": "d1740334-386a-4e1c-8f68-b32fd8ddf9d0"
      },
      "outputs": [
        {
          "data": {
            "application/vnd.google.colaboratory.intrinsic+json": {
              "type": "string"
            },
            "text/plain": [
              "'apple'"
            ]
          },
          "execution_count": 10,
          "metadata": {},
          "output_type": "execute_result"
        }
      ],
      "source": [
        "fruits = [\"apple\", \"banana\", \"cherry\", \"date\"]\n",
        "fruits[0]\n"
      ]
    },
    {
      "cell_type": "code",
      "execution_count": null,
      "metadata": {
        "colab": {
          "base_uri": "https://localhost:8080/",
          "height": 35
        },
        "id": "27176m_j71oF",
        "outputId": "4e84fb9b-6f1b-4216-e09e-b28d408dfd4c"
      },
      "outputs": [
        {
          "data": {
            "application/vnd.google.colaboratory.intrinsic+json": {
              "type": "string"
            },
            "text/plain": [
              "'cherry'"
            ]
          },
          "execution_count": 11,
          "metadata": {},
          "output_type": "execute_result"
        }
      ],
      "source": [
        "fruits[2]"
      ]
    },
    {
      "cell_type": "code",
      "execution_count": null,
      "metadata": {
        "colab": {
          "base_uri": "https://localhost:8080/",
          "height": 35
        },
        "id": "OFh7SvvS74Qr",
        "outputId": "e270fe50-b429-473f-dbe2-01181e9748b5"
      },
      "outputs": [
        {
          "data": {
            "application/vnd.google.colaboratory.intrinsic+json": {
              "type": "string"
            },
            "text/plain": [
              "'date'"
            ]
          },
          "execution_count": 12,
          "metadata": {},
          "output_type": "execute_result"
        }
      ],
      "source": [
        "fruits[-1]"
      ]
    },
    {
      "cell_type": "code",
      "execution_count": null,
      "metadata": {
        "colab": {
          "base_uri": "https://localhost:8080/",
          "height": 35
        },
        "id": "qr99AXvs7752",
        "outputId": "814da66a-0021-470b-edb4-52d4464be771"
      },
      "outputs": [
        {
          "data": {
            "application/vnd.google.colaboratory.intrinsic+json": {
              "type": "string"
            },
            "text/plain": [
              "'cherry'"
            ]
          },
          "execution_count": 13,
          "metadata": {},
          "output_type": "execute_result"
        }
      ],
      "source": [
        "fruits[-2]"
      ]
    },
    {
      "cell_type": "markdown",
      "metadata": {
        "id": "04dce372"
      },
      "source": [
        "### Getting the Length of a List\n",
        "\n",
        "The `len()` function returns the number of items in a list."
      ]
    },
    {
      "cell_type": "code",
      "execution_count": null,
      "metadata": {
        "colab": {
          "base_uri": "https://localhost:8080/"
        },
        "id": "a8b2ae5b",
        "outputId": "1d4fd6f5-d380-40bf-d43f-d7a006b0e92f"
      },
      "outputs": [
        {
          "data": {
            "text/plain": [
              "4"
            ]
          },
          "execution_count": 14,
          "metadata": {},
          "output_type": "execute_result"
        }
      ],
      "source": [
        "fruits = [\"apple\", \"banana\", \"cherry\", \"date\"]\n",
        "len(fruits)"
      ]
    },
    {
      "cell_type": "markdown",
      "metadata": {
        "id": "bf7cab47"
      },
      "source": [
        "### Modifying List Items\n",
        "\n",
        "Lists are mutable, which means you can change, add, or remove items after the list is created.\n",
        "\n",
        "#### Changing an Item\n",
        "\n",
        "You can change the value of an item by referring to its index."
      ]
    },
    {
      "cell_type": "code",
      "execution_count": null,
      "metadata": {
        "colab": {
          "base_uri": "https://localhost:8080/"
        },
        "id": "20487439",
        "outputId": "638acee6-e7e8-4be6-b234-95c1e267ea06"
      },
      "outputs": [
        {
          "data": {
            "text/plain": [
              "['apple', 'blueberry', 'cherry']"
            ]
          },
          "execution_count": 15,
          "metadata": {},
          "output_type": "execute_result"
        }
      ],
      "source": [
        "fruits = [\"apple\", \"banana\", \"cherry\"]\n",
        "fruits[1] = \"blueberry\"\n",
        "fruits"
      ]
    },
    {
      "cell_type": "markdown",
      "metadata": {
        "id": "e03a5a34"
      },
      "source": [
        "#### Adding Items (`append()`)\n",
        "\n",
        "The `append()` method adds an item to the end of the list."
      ]
    },
    {
      "cell_type": "code",
      "execution_count": null,
      "metadata": {
        "colab": {
          "base_uri": "https://localhost:8080/"
        },
        "id": "ac823a40",
        "outputId": "635e56e5-3ba7-4e59-f0bb-26c34c903b6f"
      },
      "outputs": [
        {
          "data": {
            "text/plain": [
              "['apple', 'banana', 'cherry', 'orange']"
            ]
          },
          "execution_count": 17,
          "metadata": {},
          "output_type": "execute_result"
        }
      ],
      "source": [
        "fruits = [\"apple\", \"banana\", \"cherry\"]\n",
        "fruits.append(\"orange\")\n",
        "fruits"
      ]
    },
    {
      "cell_type": "markdown",
      "metadata": {
        "id": "33ff09f7"
      },
      "source": [
        "#### Removing Items (`pop()`)\n",
        "\n",
        "The `pop()` method removes the item at the specified index. If you don't specify an index, it removes the last item."
      ]
    },
    {
      "cell_type": "code",
      "execution_count": null,
      "metadata": {
        "colab": {
          "base_uri": "https://localhost:8080/"
        },
        "id": "-DIYQr0g8Mic",
        "outputId": "1c8106af-8963-4e73-dfdf-5da13a8f3cb6"
      },
      "outputs": [
        {
          "data": {
            "text/plain": [
              "['apple', 'banana']"
            ]
          },
          "execution_count": 18,
          "metadata": {},
          "output_type": "execute_result"
        }
      ],
      "source": [
        "fruits = [\"apple\", \"banana\", \"cherry\"]\n",
        "\n",
        "# Remove the last item\n",
        "fruits.pop()\n",
        "fruits"
      ]
    },
    {
      "cell_type": "code",
      "execution_count": null,
      "metadata": {
        "colab": {
          "base_uri": "https://localhost:8080/"
        },
        "id": "RfIvGugQ8QLr",
        "outputId": "c422ec83-c65e-40fc-b968-ec1eda6b89a1"
      },
      "outputs": [
        {
          "data": {
            "text/plain": [
              "['banana']"
            ]
          },
          "execution_count": 19,
          "metadata": {},
          "output_type": "execute_result"
        }
      ],
      "source": [
        "fruits.pop(0)\n",
        "fruits"
      ]
    },
    {
      "cell_type": "markdown",
      "metadata": {
        "id": "cf5cc08e"
      },
      "source": [
        "### Exercises\n",
        "\n",
        "1. Create a list called `colors` with at least 5 different colors.\n",
        "\n"
      ]
    },
    {
      "cell_type": "code",
      "execution_count": null,
      "metadata": {
        "id": "NneM-CtL8WHV"
      },
      "outputs": [],
      "source": []
    },
    {
      "cell_type": "markdown",
      "metadata": {
        "id": "bJ7_FyWO8W8Q"
      },
      "source": [
        "2. Print the first and the last color in the `colors` list."
      ]
    },
    {
      "cell_type": "code",
      "execution_count": null,
      "metadata": {
        "id": "9x-ergQl8ayK"
      },
      "outputs": [],
      "source": []
    },
    {
      "cell_type": "markdown",
      "metadata": {
        "id": "oDu_QXlZ8ewW"
      },
      "source": [
        "3. Print the length of the `colors` list.\n"
      ]
    },
    {
      "cell_type": "code",
      "execution_count": null,
      "metadata": {
        "id": "pJYGBJEb8gZw"
      },
      "outputs": [],
      "source": []
    },
    {
      "cell_type": "markdown",
      "metadata": {
        "id": "mLxarcr-8he-"
      },
      "source": [
        "4. Change the second color in the `colors` list to 'yellow'.\n"
      ]
    },
    {
      "cell_type": "code",
      "execution_count": null,
      "metadata": {
        "id": "g5lXSJMT8i_V"
      },
      "outputs": [],
      "source": []
    },
    {
      "cell_type": "markdown",
      "metadata": {
        "id": "QIBqwf3P8jdF"
      },
      "source": [
        "5. Add a new color to the end of the `colors` list.\n"
      ]
    },
    {
      "cell_type": "code",
      "execution_count": null,
      "metadata": {
        "id": "83xG3Tzn8k0U"
      },
      "outputs": [],
      "source": []
    },
    {
      "cell_type": "markdown",
      "metadata": {
        "id": "3XSWuMVS8l1y"
      },
      "source": [
        "6. Remove the third color from the `colors` list.\n"
      ]
    },
    {
      "cell_type": "code",
      "execution_count": null,
      "metadata": {
        "id": "-dRYG_xu8nOI"
      },
      "outputs": [],
      "source": []
    },
    {
      "cell_type": "markdown",
      "metadata": {
        "id": "kcwBPTEi8n8g"
      },
      "source": [
        "7. Print the `colors` list after all the modifications."
      ]
    },
    {
      "cell_type": "code",
      "execution_count": null,
      "metadata": {
        "id": "pX2lxws_8oZL"
      },
      "outputs": [],
      "source": []
    },
    {
      "cell_type": "markdown",
      "metadata": {
        "id": "d5c6bedd"
      },
      "source": [
        "## Introduction to Sets\n",
        "\n",
        "Sets are unordered collections of unique items. They are useful for operations involving membership testing and eliminating duplicate entries. Sets are enclosed in curly braces `{}` or created using the `set()` constructor."
      ]
    },
    {
      "cell_type": "markdown",
      "metadata": {
        "id": "ec797713"
      },
      "source": [
        "### Creating Sets\n",
        "\n",
        "You can create a set by placing items inside curly braces `{}` separated by commas, or by converting a list or tuple to a set using `set()`."
      ]
    },
    {
      "cell_type": "code",
      "execution_count": null,
      "metadata": {
        "id": "BmPvz6cz9CVG"
      },
      "outputs": [],
      "source": [
        "# A set of integers\n",
        "my_set = {1, 2, 3, 4, 5}\n",
        "my_set"
      ]
    },
    {
      "cell_type": "code",
      "execution_count": null,
      "metadata": {
        "id": "10934683"
      },
      "outputs": [],
      "source": [
        "# Creating a set from a list (duplicates are removed)\n",
        "my_list = [1, 2, 2, 3, 4, 4, 5]\n",
        "set_from_list = set(my_list)\n",
        "set_from_list\n"
      ]
    },
    {
      "cell_type": "code",
      "execution_count": null,
      "metadata": {
        "colab": {
          "base_uri": "https://localhost:8080/"
        },
        "id": "JZOx0T579KRn",
        "outputId": "e94cbc46-212d-4d40-d5c3-103802018d6c"
      },
      "outputs": [
        {
          "data": {
            "text/plain": [
              "{1, 3, 5, 7, 8}"
            ]
          },
          "execution_count": 21,
          "metadata": {},
          "output_type": "execute_result"
        }
      ],
      "source": [
        "my_set1 = {1, 1, 3, 5, 7, 8}\n",
        "my_set1"
      ]
    },
    {
      "cell_type": "markdown",
      "metadata": {
        "id": "5b6dcec5"
      },
      "source": [
        "### Set Operations\n",
        "\n",
        "Sets support mathematical set operations like union, intersection, difference, and symmetric difference."
      ]
    },
    {
      "cell_type": "code",
      "execution_count": null,
      "metadata": {
        "colab": {
          "base_uri": "https://localhost:8080/"
        },
        "id": "3DsgKdeI9YZm",
        "outputId": "7681930c-2e2c-41b9-a62b-87241f295956"
      },
      "outputs": [
        {
          "data": {
            "text/plain": [
              "{1, 2, 3, 4, 5, 6}"
            ]
          },
          "execution_count": 22,
          "metadata": {},
          "output_type": "execute_result"
        }
      ],
      "source": [
        "set1 = {1, 2, 3, 4}\n",
        "set2 = {3, 4, 5, 6}\n",
        "\n",
        "# Union (all unique elements from both sets)\n",
        "union_set = set1 | set2\n",
        "union_set"
      ]
    },
    {
      "cell_type": "code",
      "execution_count": null,
      "metadata": {
        "colab": {
          "base_uri": "https://localhost:8080/"
        },
        "id": "0bb32250",
        "outputId": "265496a5-c1e3-4f76-d581-663620d715b8"
      },
      "outputs": [
        {
          "data": {
            "text/plain": [
              "{3, 4}"
            ]
          },
          "execution_count": 23,
          "metadata": {},
          "output_type": "execute_result"
        }
      ],
      "source": [
        "# Intersection (common elements)\n",
        "intersection_set = set1 & set2\n",
        "intersection_set\n"
      ]
    },
    {
      "cell_type": "code",
      "execution_count": null,
      "metadata": {
        "colab": {
          "base_uri": "https://localhost:8080/"
        },
        "id": "CihOZZ_v9e5x",
        "outputId": "17ce2725-b8e2-49c4-b9b9-693bbaf8b143"
      },
      "outputs": [
        {
          "data": {
            "text/plain": [
              "{1, 2}"
            ]
          },
          "execution_count": 24,
          "metadata": {},
          "output_type": "execute_result"
        }
      ],
      "source": [
        "# Difference (elements in set1 but not in set2)\n",
        "difference_set = set1 - set2\n",
        "difference_set"
      ]
    },
    {
      "cell_type": "markdown",
      "metadata": {
        "id": "e48c86e0"
      },
      "source": [
        "### Adding and Removing Items from Sets\n",
        "\n",
        "You can add items to a set using the `add()` method and remove items using the `remove()` or `discard()` methods. `remove()` will raise an error if the item is not found, while `discard()` will not."
      ]
    },
    {
      "cell_type": "code",
      "execution_count": null,
      "metadata": {
        "id": "1115447e"
      },
      "outputs": [],
      "source": [
        "my_set = {1, 2, 3}\n",
        "my_set.add(4)\n",
        "print(f\"After adding 4: {my_set}\")\n",
        "\n",
        "my_set.remove(2)\n",
        "print(f\"After removing 2: {my_set}\")\n",
        "\n",
        "my_set.discard(5) # No error if 5 is not in the set\n",
        "print(f\"After discarding 5: {my_set}\")"
      ]
    },
    {
      "cell_type": "markdown",
      "metadata": {
        "id": "851f3b33"
      },
      "source": [
        "### Exercises\n",
        "\n",
        "1. Create a set called `fruits_set` with at least 4 different fruits."
      ]
    },
    {
      "cell_type": "code",
      "execution_count": null,
      "metadata": {},
      "outputs": [],
      "source": []
    },
    {
      "cell_type": "markdown",
      "metadata": {},
      "source": [
        "2. Add a new fruit to the `fruits_set`."
      ]
    },
    {
      "cell_type": "code",
      "execution_count": null,
      "metadata": {},
      "outputs": [],
      "source": []
    },
    {
      "cell_type": "markdown",
      "metadata": {},
      "source": [
        "3. Remove a fruit from the `fruits_set` using `discard()`."
      ]
    },
    {
      "cell_type": "code",
      "execution_count": null,
      "metadata": {},
      "outputs": [],
      "source": []
    },
    {
      "cell_type": "markdown",
      "metadata": {},
      "source": [
        "4. Create two sets, `set_a` and `set_b`, with some common and some unique elements."
      ]
    },
    {
      "cell_type": "code",
      "execution_count": null,
      "metadata": {},
      "outputs": [],
      "source": []
    },
    {
      "cell_type": "markdown",
      "metadata": {},
      "source": [
        "5. Find the union of `set_a` and `set_b`."
      ]
    },
    {
      "cell_type": "code",
      "execution_count": null,
      "metadata": {},
      "outputs": [],
      "source": []
    },
    {
      "cell_type": "markdown",
      "metadata": {},
      "source": [
        "6. Find the intersection of `set_a` and `set_b`."
      ]
    },
    {
      "cell_type": "code",
      "execution_count": null,
      "metadata": {},
      "outputs": [],
      "source": []
    },
    {
      "cell_type": "markdown",
      "metadata": {},
      "source": [
        "7. Print the `fruits_set` after modifications, the union, and the intersection."
      ]
    },
    {
      "cell_type": "code",
      "execution_count": null,
      "metadata": {},
      "outputs": [],
      "source": []
    },
    {
      "cell_type": "markdown",
      "metadata": {
        "id": "66e26bc3"
      },
      "source": [
        "## Introduction to Dictionaries\n",
        "\n",
        "Dictionaries are unordered collections of key-value pairs. They are used to store data values like a map, which, unlike sequence types (like lists or tuples), that use an integer index, use keys to access items. Keys are unique and immutable (like strings, numbers, or tuples), while values can be of any data type. Dictionaries are enclosed in curly braces `{}` with key-value pairs separated by commas, in the form `key: value`."
      ]
    },
    {
      "cell_type": "markdown",
      "metadata": {
        "id": "1e4c0be7"
      },
      "source": [
        "### Creating Dictionaries\n",
        "\n",
        "You can create a dictionary by placing key-value pairs inside curly braces `{}` separated by commas."
      ]
    },
    {
      "cell_type": "code",
      "execution_count": null,
      "metadata": {
        "id": "2faFNwD-9xW9"
      },
      "outputs": [],
      "source": [
        "# An empty dictionary\n",
        "empty_dict = {}\n",
        "empty_dict\n"
      ]
    },
    {
      "cell_type": "code",
      "execution_count": null,
      "metadata": {
        "id": "7103a680"
      },
      "outputs": [],
      "source": [
        "# A dictionary with some key-value pairs\n",
        "person = {\"name\": \"Alice\", \"age\": 30, \"city\": \"New York\"}\n",
        "person\n"
      ]
    },
    {
      "cell_type": "markdown",
      "metadata": {
        "id": "37c05b14"
      },
      "source": [
        "### Accessing Dictionary Items\n",
        "\n",
        "You can access the value associated with a key by placing the key inside square brackets `[]` after the dictionary name, or by using the `get()` method. The `get()` method is preferred as it returns `None` if the key is not found, instead of raising an error."
      ]
    },
    {
      "cell_type": "code",
      "execution_count": null,
      "metadata": {
        "id": "xYGowuQB-LxA"
      },
      "outputs": [],
      "source": [
        "person = {\"name\": \"Alice\", \"age\": 30, \"city\": \"New York\"}\n",
        "\n",
        "# Accessing value using square brackets\n",
        "person[\"name\"]"
      ]
    },
    {
      "cell_type": "code",
      "execution_count": null,
      "metadata": {
        "id": "lXyS03TU-PER"
      },
      "outputs": [],
      "source": [
        "# Accessing value using get()\n",
        "person.get(\"age\")"
      ]
    },
    {
      "cell_type": "code",
      "execution_count": null,
      "metadata": {
        "id": "Ml9EYyee-S5Q"
      },
      "outputs": [],
      "source": [
        "# Trying to access a non-existent key using get()\n",
        "person.get(\"gender\")"
      ]
    },
    {
      "cell_type": "markdown",
      "metadata": {
        "id": "514aefe0"
      },
      "source": [
        "### Modifying Dictionaries\n",
        "\n",
        "Dictionaries are mutable. You can add new key-value pairs, change the value of an existing key, or remove key-value pairs.\n",
        "\n",
        "#### Adding or Changing Items\n",
        "\n",
        "To add a new item or change the value of an existing key, you use the assignment operator `=`."
      ]
    },
    {
      "cell_type": "code",
      "execution_count": null,
      "metadata": {
        "colab": {
          "base_uri": "https://localhost:8080/"
        },
        "id": "JZla-Tcc-Zse",
        "outputId": "e0b5c98b-05f1-46f0-d420-58c585efa866"
      },
      "outputs": [
        {
          "data": {
            "text/plain": [
              "{'name': 'Alice', 'age': 30, 'city': 'New York', 'email': 'alice@example.com'}"
            ]
          },
          "execution_count": 25,
          "metadata": {},
          "output_type": "execute_result"
        }
      ],
      "source": [
        "person = {\"name\": \"Alice\", \"age\": 30, \"city\": \"New York\"}\n",
        "\n",
        "# Adding a new key-value pair\n",
        "person[\"email\"] = \"alice@example.com\"\n",
        "person"
      ]
    },
    {
      "cell_type": "code",
      "execution_count": null,
      "metadata": {
        "colab": {
          "base_uri": "https://localhost:8080/"
        },
        "id": "5f447a2f",
        "outputId": "ecd51678-b20d-4a11-c14b-1a447abb3980"
      },
      "outputs": [
        {
          "data": {
            "text/plain": [
              "{'name': 'Alice', 'age': 31, 'city': 'New York', 'email': 'alice@example.com'}"
            ]
          },
          "execution_count": 26,
          "metadata": {},
          "output_type": "execute_result"
        }
      ],
      "source": [
        "# Changing the value of an existing key\n",
        "person[\"age\"] = 31\n",
        "person"
      ]
    },
    {
      "cell_type": "markdown",
      "metadata": {
        "id": "b07c68e4"
      },
      "source": [
        "#### Removing Items\n",
        "\n",
        "You can remove a key-value pair using the `pop()` method (specifying the key) or the `del` keyword."
      ]
    },
    {
      "cell_type": "code",
      "execution_count": null,
      "metadata": {
        "colab": {
          "base_uri": "https://localhost:8080/",
          "height": 35
        },
        "id": "M5KqkJyz-k8A",
        "outputId": "4b87bbc8-1e77-42c6-ff11-94d23d54123b"
      },
      "outputs": [
        {
          "data": {
            "application/vnd.google.colaboratory.intrinsic+json": {
              "type": "string"
            },
            "text/plain": [
              "'New York'"
            ]
          },
          "execution_count": 27,
          "metadata": {},
          "output_type": "execute_result"
        }
      ],
      "source": [
        "person = {\"name\": \"Alice\", \"age\": 31, \"city\": \"New York\", \"email\": \"alice@example.com\"}\n",
        "\n",
        "# Removing using pop()\n",
        "removed_city = person.pop(\"city\")\n",
        "person\n",
        "removed_city"
      ]
    },
    {
      "cell_type": "code",
      "execution_count": null,
      "metadata": {
        "id": "7f8d9786"
      },
      "outputs": [],
      "source": [
        "# Removing using del\n",
        "del person[\"email\"]\n",
        "person"
      ]
    },
    {
      "cell_type": "markdown",
      "metadata": {
        "id": "7b36920a"
      },
      "source": [
        "### Exercises\n",
        "\n",
        "1. Create a dictionary called `car` with keys for 'make', 'model', and 'year'. Assign appropriate values.\n"
      ]
    },
    {
      "cell_type": "code",
      "execution_count": null,
      "metadata": {
        "id": "EDWv01ST-wGy"
      },
      "outputs": [],
      "source": []
    },
    {
      "cell_type": "markdown",
      "metadata": {
        "id": "qCzqoU7I-wfT"
      },
      "source": [
        "2. Access and print the 'model' of the car.\n"
      ]
    },
    {
      "cell_type": "code",
      "execution_count": null,
      "metadata": {
        "id": "fH0J7rMe-0PQ"
      },
      "outputs": [],
      "source": []
    },
    {
      "cell_type": "markdown",
      "metadata": {
        "id": "-QLl4IVF-0vr"
      },
      "source": [
        "3. Add a new key-value pair 'color' to the `car` dictionary.\n"
      ]
    },
    {
      "cell_type": "code",
      "execution_count": null,
      "metadata": {
        "id": "QfmPCQNU-2I8"
      },
      "outputs": [],
      "source": []
    },
    {
      "cell_type": "markdown",
      "metadata": {
        "id": "pB4L32A_-2mc"
      },
      "source": [
        "4. Change the 'year' of the car to a new value.\n"
      ]
    },
    {
      "cell_type": "code",
      "execution_count": null,
      "metadata": {
        "id": "OcSnMiG6-31s"
      },
      "outputs": [],
      "source": []
    },
    {
      "cell_type": "markdown",
      "metadata": {
        "id": "mbBh3t7u-4bu"
      },
      "source": [
        "5. Remove the 'make' key-value pair from the dictionary.\n"
      ]
    },
    {
      "cell_type": "code",
      "execution_count": null,
      "metadata": {
        "id": "J-XbUhkG-6NB"
      },
      "outputs": [],
      "source": []
    },
    {
      "cell_type": "markdown",
      "metadata": {
        "id": "pk0TiTY4-62C"
      },
      "source": [
        "6. Print the `car` dictionary after all modifications."
      ]
    },
    {
      "cell_type": "code",
      "execution_count": null,
      "metadata": {
        "id": "7wdj8onG-7uj"
      },
      "outputs": [],
      "source": []
    },
    {
      "cell_type": "markdown",
      "metadata": {
        "id": "xaNct9D3BLel"
      },
      "source": [
        "## The print() Command (For Displaying Output)\n",
        "The print() command is the simplest way to show information to the user or to yourself within your coding environment. This command displays the content inside its parentheses directly to the output (the console or the Jupyter cell output)."
      ]
    },
    {
      "cell_type": "code",
      "execution_count": null,
      "metadata": {
        "colab": {
          "base_uri": "https://localhost:8080/"
        },
        "id": "pAwRS9EyBOQJ",
        "outputId": "88948018-cfdf-4287-b291-fa950a980cea"
      },
      "outputs": [
        {
          "name": "stdout",
          "output_type": "stream",
          "text": [
            "Well done!\n",
            "Your score is:\n",
            "95\n",
            "Student's grade: 95 out of 100\n"
          ]
        }
      ],
      "source": [
        "\n",
        "final_score = 95\n",
        "\n",
        "\n",
        "print(\"Well done!\")\n",
        "print(\"Your score is:\")\n",
        "print(final_score)\n",
        "\n",
        "# You can print multiple items at once\n",
        "print(\"Student's grade:\", final_score, \"out of 100\")"
      ]
    },
    {
      "cell_type": "markdown",
      "metadata": {
        "id": "EBO2BwQeBaix"
      },
      "source": [
        "## The type() Command (For Checking Data Type)\n",
        "In Python, every variable or value you define has a specific type. The type() command tells you exactly what kind of data a particular object or variable holds. Knowing the data type is critical for preventing errors (e.g., trying to add a piece of text and a number)."
      ]
    },
    {
      "cell_type": "markdown",
      "metadata": {
        "id": "katRZhOKBdMc"
      },
      "source": [
        "## Core Data Types:\n",
        "<ul>\n",
        "<li><strong>int (Integer)</strong> : Whole numbers (no decimals) like 10, -5.</li>\n",
        "\n",
        "<li><strong>float (Floating Point)</strong> : Decimal numbers like 3.14, 0.5.</li>\n",
        "\n",
        "<li><strong>str (String)</strong> : Text (enclosed in quotes) like \"Python\", \"A\".</li>\n",
        "\n",
        "<li><strong> (Boolean)</strong> : Logical values, either True or False.</li>\n",
        "\n",
        "<li><strong>list (List)</strong> : A collection of items, defined with square brackets [].</li>\n",
        "\n",
        "\n"
      ]
    },
    {
      "cell_type": "code",
      "execution_count": null,
      "metadata": {
        "colab": {
          "base_uri": "https://localhost:8080/"
        },
        "id": "endgA1ukBcgd",
        "outputId": "0465edc8-f73c-4a4d-df57-bb9636c941b8"
      },
      "outputs": [
        {
          "name": "stdout",
          "output_type": "stream",
          "text": [
            "Type of age: <class 'int'>\n",
            "Type of price: <class 'float'>\n",
            "Type of message: <class 'str'>\n",
            "Type of is_active: <class 'bool'>\n",
            "Type of student_list: <class 'list'>\n"
          ]
        }
      ],
      "source": [
        "# Define variables of different types\n",
        "age = 15\n",
        "price = 99.99\n",
        "message = \"Programming\"\n",
        "is_active = True\n",
        "student_list = [\"Arash\", \"Sara\", \"Kimiya\"]\n",
        "\n",
        "\n",
        "\n",
        "print(\"Type of age:\", type(age))\n",
        "print(\"Type of price:\", type(price))\n",
        "print(\"Type of message:\", type(message))\n",
        "print(\"Type of is_active:\", type(is_active))\n",
        "print(\"Type of student_list:\", type(student_list))"
      ]
    }
  ],
  "metadata": {
    "colab": {
      "provenance": []
    },
    "kernelspec": {
      "display_name": "Python 3",
      "name": "python3"
    },
    "language_info": {
      "codemirror_mode": {
        "name": "ipython",
        "version": 3
      },
      "file_extension": ".py",
      "mimetype": "text/x-python",
      "name": "python",
      "nbconvert_exporter": "python",
      "pygments_lexer": "ipython3",
      "version": "3.11.0"
    }
  },
  "nbformat": 4,
  "nbformat_minor": 0
}
