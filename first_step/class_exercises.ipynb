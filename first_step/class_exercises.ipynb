{
 "cells": [
  {
   "cell_type": "markdown",
   "id": "6928b5af",
   "metadata": {},
   "source": [
    "**Exercise 1:** Create a dictionary called `[your_name]_scores` that contains math and physics scores as lists.\n"
   ]
  },
  {
   "cell_type": "code",
   "execution_count": 1,
   "id": "c12162ec",
   "metadata": {},
   "outputs": [],
   "source": [
    "raha_scores = { \"math_score\" : [19, 20, 18.5, 19.5, 17],\n",
    "        \"physics_score\" : [18, 17, 16, 20, 19.5]}"
   ]
  },
  {
   "cell_type": "markdown",
   "id": "e32c7d72",
   "metadata": {},
   "source": [
    "**Exercise 2:** Use the `.keys()` method to get all keys from the `[your_name]_scores` dictionary.\n"
   ]
  },
  {
   "cell_type": "code",
   "execution_count": 2,
   "id": "85f636d0",
   "metadata": {},
   "outputs": [
    {
     "data": {
      "text/plain": [
       "dict_keys(['math_score', 'physics_score'])"
      ]
     },
     "execution_count": 2,
     "metadata": {},
     "output_type": "execute_result"
    }
   ],
   "source": [
    "raha_scores.keys()"
   ]
  },
  {
   "cell_type": "markdown",
   "id": "0edc47e2",
   "metadata": {},
   "source": [
    "**Exercise 3:** Get the second math score (index 1) from the `[your_name]_scores` dictionary and store it in a variable called `second_math`.\n"
   ]
  },
  {
   "cell_type": "code",
   "execution_count": 3,
   "id": "31319edd",
   "metadata": {},
   "outputs": [
    {
     "data": {
      "text/plain": [
       "20"
      ]
     },
     "execution_count": 3,
     "metadata": {},
     "output_type": "execute_result"
    }
   ],
   "source": [
    "second_math = raha_scores[\"math_score\"][1]\n",
    "second_math"
   ]
  },
  {
   "cell_type": "markdown",
   "id": "8bb2936c",
   "metadata": {},
   "source": [
    "**Exercise 4:** Get the third physics score (index 2) from the `[your_name]_scores` dictionary and store it in a variable called `third_physics`"
   ]
  },
  {
   "cell_type": "code",
   "execution_count": 4,
   "id": "8cbc76e9",
   "metadata": {},
   "outputs": [
    {
     "data": {
      "text/plain": [
       "16"
      ]
     },
     "execution_count": 4,
     "metadata": {},
     "output_type": "execute_result"
    }
   ],
   "source": [
    "third_physics = raha_scores[\"physics_score\"][2]\n",
    "third_physics\n"
   ]
  },
  {
   "cell_type": "markdown",
   "id": "278b27ca",
   "metadata": {},
   "source": [
    "**Exercise 5:** Use the `len()` function to find the number of math scores and store it in a variable called `n_math`.\n"
   ]
  },
  {
   "cell_type": "code",
   "execution_count": 5,
   "id": "212038f5",
   "metadata": {},
   "outputs": [],
   "source": [
    "n_math = len(raha_scores[\"math_score\"])"
   ]
  },
  {
   "cell_type": "markdown",
   "id": "a621f341",
   "metadata": {},
   "source": [
    "**Exercise 6:** Calculate the average (mean) of math scores by dividing the sum by the number of scores. Store the result in `mean_math`.\n"
   ]
  },
  {
   "cell_type": "code",
   "execution_count": 6,
   "id": "da45a5e6",
   "metadata": {},
   "outputs": [
    {
     "data": {
      "text/plain": [
       "18.8"
      ]
     },
     "execution_count": 6,
     "metadata": {},
     "output_type": "execute_result"
    }
   ],
   "source": [
    "mean_math = sum(raha_scores[\"math_score\"]) / n_math\n",
    "mean_math"
   ]
  },
  {
   "cell_type": "markdown",
   "id": "32347c94",
   "metadata": {},
   "source": [
    "**Exercise 7:** Use the `max()` function to find the highest physics score and store it in `max_physics`.\n"
   ]
  },
  {
   "cell_type": "code",
   "execution_count": null,
   "id": "8d3f5f1b",
   "metadata": {},
   "outputs": [],
   "source": [
    "max_physics = max(raha_scores[\"physics_score\"])\n",
    "max_physics"
   ]
  },
  {
   "cell_type": "markdown",
   "id": "e2c04308",
   "metadata": {},
   "source": [
    "**Exercise 8:** Use the `min()` function to find the lowest physics score and store it in `min_physics`.\n"
   ]
  },
  {
   "cell_type": "code",
   "execution_count": null,
   "id": "66b13096",
   "metadata": {},
   "outputs": [],
   "source": [
    "min_physics = min(raha_scores[\"physics_score\"])\n",
    "min_physics"
   ]
  },
  {
   "cell_type": "markdown",
   "id": "36d00eb5",
   "metadata": {},
   "source": [
    "**Exercise 9:** Use the `.append()` method to add a new math score (17.5) to the math scores list.\n"
   ]
  },
  {
   "cell_type": "code",
   "execution_count": 7,
   "id": "b443ff68",
   "metadata": {},
   "outputs": [
    {
     "data": {
      "text/plain": [
       "[19, 20, 18.5, 19.5, 17, 17.5]"
      ]
     },
     "execution_count": 7,
     "metadata": {},
     "output_type": "execute_result"
    }
   ],
   "source": [
    "raha_scores[\"math_score\"].append(17.5)\n",
    "raha_scores[\"math_score\"]"
   ]
  },
  {
   "cell_type": "markdown",
   "id": "c1b5c948",
   "metadata": {},
   "source": [
    "**Exercise 10:** Use the `print()` function to display \"Hello, world!\" on the screen.\n"
   ]
  },
  {
   "cell_type": "code",
   "execution_count": 8,
   "id": "7e0f38c8",
   "metadata": {},
   "outputs": [
    {
     "name": "stdout",
     "output_type": "stream",
     "text": [
      "Hello, world!\n"
     ]
    }
   ],
   "source": [
    "print(\"Hello, world!\")"
   ]
  },
  {
   "cell_type": "markdown",
   "id": "79818434",
   "metadata": {},
   "source": [
    "**Exercise 11:** Create a variable called `a` with the value 10, then print it.\n"
   ]
  },
  {
   "cell_type": "code",
   "execution_count": 9,
   "id": "679bb936",
   "metadata": {},
   "outputs": [
    {
     "name": "stdout",
     "output_type": "stream",
     "text": [
      "10\n"
     ]
    }
   ],
   "source": [
    "a = 10\n",
    "print(a)"
   ]
  },
  {
   "cell_type": "markdown",
   "id": "ef734022",
   "metadata": {},
   "source": [
    "**Exercise 12:** Change the variable `a` to store the string \"your_name\" instead of a number, then print it.\n"
   ]
  },
  {
   "cell_type": "code",
   "execution_count": 10,
   "id": "254da07f",
   "metadata": {},
   "outputs": [
    {
     "name": "stdout",
     "output_type": "stream",
     "text": [
      "raha\n"
     ]
    }
   ],
   "source": [
    "a = \"raha\"\n",
    "print(a)"
   ]
  },
  {
   "cell_type": "markdown",
   "id": "b9a9f8a6",
   "metadata": {},
   "source": [
    "**Exercise 13:** Use the `print()` function to display two strings \"your_name\" and \"your_last_name\"\n"
   ]
  },
  {
   "cell_type": "code",
   "execution_count": null,
   "id": "7377f8bf",
   "metadata": {},
   "outputs": [
    {
     "name": "stdout",
     "output_type": "stream",
     "text": [
      "raha shahsavan\n"
     ]
    }
   ],
   "source": [
    "print(\"raha\" , \"shahsavan\")\n"
   ]
  },
  {
   "cell_type": "markdown",
   "id": "40b5dc0c",
   "metadata": {},
   "source": [
    "**Exercise 14:** Practice different ways to combine and print strings. Try string concatenation with `+` and printing multiple values with commas.\n"
   ]
  },
  {
   "cell_type": "code",
   "execution_count": 18,
   "id": "b2644055",
   "metadata": {},
   "outputs": [
    {
     "name": "stdout",
     "output_type": "stream",
     "text": [
      "raha shahsavan\n",
      "raha shahsavan\n",
      "raha shahsavan\n",
      "raha shahsavan\n"
     ]
    }
   ],
   "source": [
    "a = \"raha\"\n",
    "b = \"shahsavan\"\n",
    "print(a + \" \" + b)\n",
    "print (a,b)\n",
    "print(\"raha\" , \"shahsavan\")\n",
    "print(a, \"shahsavan\")\n",
    "\n",
    "\n"
   ]
  },
  {
   "cell_type": "markdown",
   "id": "bc0621ba",
   "metadata": {},
   "source": [
    "<h2>F-String</h2>"
   ]
  },
  {
   "cell_type": "markdown",
   "id": "59b3e19d",
   "metadata": {},
   "source": [
    "**Exercise 15:** Use f-strings to create a formatted message. Create variables for name and last_name, then print \"my name is [name] [last_name]\" using f-string formatting.\n"
   ]
  },
  {
   "cell_type": "code",
   "execution_count": null,
   "id": "061494ac",
   "metadata": {},
   "outputs": [
    {
     "name": "stdout",
     "output_type": "stream",
     "text": [
      "raha shahsavan\n"
     ]
    }
   ],
   "source": [
    "name = \"raha\"\n",
    "last_name = \"shahsavan\"\n",
    "print(f\" my name is {name} {last_name} \")\n"
   ]
  },
  {
   "cell_type": "markdown",
   "id": "a1a06f90",
   "metadata": {},
   "source": [
    "**Exercise 16:** Use f-strings to print your age. Create a variable called `age` with value 29, then print \"my age is [age]\" using f-string formatting.\n"
   ]
  },
  {
   "cell_type": "code",
   "execution_count": 19,
   "id": "34c80ee8",
   "metadata": {},
   "outputs": [
    {
     "name": "stdout",
     "output_type": "stream",
     "text": [
      "my age is 29\n"
     ]
    }
   ],
   "source": [
    "age = 29\n",
    "print(f\"my age is {age}\")"
   ]
  },
  {
   "cell_type": "markdown",
   "id": "886e7381",
   "metadata": {},
   "source": [
    "**Exercise 17:** Create a dictionary called `student` with keys \"name\", \"age\", and \"city\". Then use f-strings to print \"my name is [name]\" using the dictionary value.\n"
   ]
  },
  {
   "cell_type": "code",
   "execution_count": null,
   "id": "6d1efb68",
   "metadata": {},
   "outputs": [],
   "source": [
    "student = {\"name\" : \"raha\", \"age\" : 29, \"city\" : \"tehran\"}\n",
    "print(f\"my name is {student['name']}\")"
   ]
  },
  {
   "cell_type": "markdown",
   "id": "5352254f",
   "metadata": {},
   "source": [
    "**Exercise 18:** Use f-strings to print \"my age is [age]\" using the age value from the `student` dictionary.\n"
   ]
  },
  {
   "cell_type": "code",
   "execution_count": null,
   "id": "bc9b3cd5",
   "metadata": {},
   "outputs": [],
   "source": [
    "print(f\"my age is {student['age']}\")"
   ]
  },
  {
   "cell_type": "markdown",
   "id": "43fad65f",
   "metadata": {},
   "source": [
    "**Exercise 19:** Use f-strings to print \"my city is [city]\" using the age value from the `student` dictionary.\n"
   ]
  },
  {
   "cell_type": "code",
   "execution_count": null,
   "id": "47070249",
   "metadata": {},
   "outputs": [],
   "source": [
    "print(f\"my city is {student['city']}\")"
   ]
  },
  {
   "cell_type": "markdown",
   "id": "aa56466e",
   "metadata": {},
   "source": [
    "**Exercise 20:** Use f-strings to print all of them together.\n"
   ]
  },
  {
   "cell_type": "code",
   "execution_count": null,
   "id": "83a8e7fb",
   "metadata": {},
   "outputs": [],
   "source": [
    "print(f\"my name is {student['name']} and my age is {student['age']} and my city is {student['city']}\")"
   ]
  }
 ],
 "metadata": {
  "kernelspec": {
   "display_name": "Python 3",
   "language": "python",
   "name": "python3"
  },
  "language_info": {
   "codemirror_mode": {
    "name": "ipython",
    "version": 3
   },
   "file_extension": ".py",
   "mimetype": "text/x-python",
   "name": "python",
   "nbconvert_exporter": "python",
   "pygments_lexer": "ipython3",
   "version": "3.11.0"
  }
 },
 "nbformat": 4,
 "nbformat_minor": 5
}
